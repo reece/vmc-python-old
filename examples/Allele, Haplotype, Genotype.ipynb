{
 "cells": [
  {
   "cell_type": "markdown",
   "metadata": {
    "deletable": true,
    "editable": true
   },
   "source": [
    "# Create app"
   ]
  },
  {
   "cell_type": "code",
   "execution_count": 1,
   "metadata": {
    "collapsed": false,
    "deletable": true,
    "editable": true
   },
   "outputs": [],
   "source": [
    "from vmc import Allele, Haplotype, Genotype, Interval\n",
    "from vmc.data import apoe\n",
    "from vmc.demoapp import DemoApp\n",
    "from vmc.io.json import to_json\n",
    "\n",
    "app = DemoApp()"
   ]
  },
  {
   "cell_type": "code",
   "execution_count": 2,
   "metadata": {
    "collapsed": false,
    "deletable": true,
    "editable": true
   },
   "outputs": [],
   "source": [
    "rs429358C = Allele(seqref=\"NCBI:NC_000019.10\",\n",
    "                location=Interval(44908683, 44908684),\n",
    "                replacement=\"C\",\n",
    "                identifiers=[\"dbsnp:rs429358T\"])\n",
    "rs7412T = Allele(seqref=\"NCBI:NC_000019.10\",\n",
    "                 location=Interval(44908821, 44908822),\n",
    "                 replacement=\"T\",\n",
    "                 identifiers=[\"dbsnp:rs7412T\"])\n",
    "    \n",
    "haplotype = Haplotype(alleles=[rs429358C, rs7412T],\n",
    "                      identifiers=[\"ε1\"])\n",
    "\n",
    "genotype = Genotype(haplotypes=[haplotype, haplotype],\n",
    "                    identifiers=[\"ε1/ε1\"])\n",
    "\n",
    "app.add_allele(rs429358C)\n",
    "app.add_allele(rs7412T)\n",
    "app.add_haplotype(haplotype)\n",
    "app.add_genotype(genotype)"
   ]
  },
  {
   "cell_type": "code",
   "execution_count": 5,
   "metadata": {
    "collapsed": false,
    "deletable": true,
    "editable": true
   },
   "outputs": [
    {
     "name": "stdout",
     "output_type": "stream",
     "text": [
      "{\n",
      "  \"alleles\": [\n",
      "    {\n",
      "      \"id\": \"ccb52f64-bc3d-48c2-b7e9-eededed330f1\",\n",
      "      \"location\": {\n",
      "        \"end\": 44908684,\n",
      "        \"start\": 44908683\n",
      "      },\n",
      "      \"replacement\": \"C\",\n",
      "      \"seqref\": \"NCBI:NC_000019.10\"\n",
      "    },\n",
      "    {\n",
      "      \"id\": \"ba130089-090b-4fe6-a8f1-3cc94904ba61\",\n",
      "      \"location\": {\n",
      "        \"end\": 44908822,\n",
      "        \"start\": 44908821\n",
      "      },\n",
      "      \"replacement\": \"T\",\n",
      "      \"seqref\": \"NCBI:NC_000019.10\"\n",
      "    }\n",
      "  ],\n",
      "  \"genotypes\": [\n",
      "    {\n",
      "      \"haplotype_ids\": [\n",
      "        \"4c94d822-f5dc-4b2a-8c59-5593e136ab15\",\n",
      "        \"4c94d822-f5dc-4b2a-8c59-5593e136ab15\"\n",
      "      ],\n",
      "      \"id\": \"0Qaw4gEJjfxE-VcVJ-fixlhoZLLJ7okp\"\n",
      "    }\n",
      "  ],\n",
      "  \"haplotypes\": [\n",
      "    {\n",
      "      \"allele_ids\": [\n",
      "        \"ba130089-090b-4fe6-a8f1-3cc94904ba61\",\n",
      "        \"ccb52f64-bc3d-48c2-b7e9-eededed330f1\"\n",
      "      ],\n",
      "      \"id\": \"4c94d822-f5dc-4b2a-8c59-5593e136ab15\"\n",
      "    }\n",
      "  ],\n",
      "  \"identifier_id_map\": {\n",
      "    \"dbsnp:rs429358T\": \"ccb52f64-bc3d-48c2-b7e9-eededed330f1\",\n",
      "    \"dbsnp:rs7412T\": \"ba130089-090b-4fe6-a8f1-3cc94904ba61\",\n",
      "    \"ε1\": \"4c94d822-f5dc-4b2a-8c59-5593e136ab15\",\n",
      "    \"ε1/ε1\": \"81f1047c-aa99-40dc-8105-d87051983a06\"\n",
      "  },\n",
      "  \"relationships\": {\n",
      "    \"classes\": {},\n",
      "    \"relations\": {\n",
      "      \"<class>\": []\n",
      "    }\n",
      "  },\n",
      "  \"vmc\": {\n",
      "    \"version\": 1\n",
      "  }\n",
      "}\n"
     ]
    }
   ],
   "source": [
    "print(app.to_json())"
   ]
  },
  {
   "cell_type": "code",
   "execution_count": null,
   "metadata": {
    "collapsed": true,
    "deletable": true,
    "editable": true
   },
   "outputs": [],
   "source": []
  }
 ],
 "metadata": {
  "kernelspec": {
   "display_name": "Python 3",
   "language": "python",
   "name": "python3"
  },
  "language_info": {
   "codemirror_mode": {
    "name": "ipython",
    "version": 3
   },
   "file_extension": ".py",
   "mimetype": "text/x-python",
   "name": "python",
   "nbconvert_exporter": "python",
   "pygments_lexer": "ipython3",
   "version": "3.5.2+"
  }
 },
 "nbformat": 4,
 "nbformat_minor": 2
}
