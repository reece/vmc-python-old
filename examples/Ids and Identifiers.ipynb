{
 "cells": [
  {
   "cell_type": "markdown",
   "metadata": {
    "deletable": true,
    "editable": true
   },
   "source": [
    "# Study of Ids and Identifiers\n",
    "This notebook demonstrates the use and implications of assigned versus computed identifiers.\n",
    "\n",
    "* **logical id (id)**: internal identifier used to refer to an object\n",
    "* **business identifier (identifier)**: identifier used across systems to establish equivalence\n",
    "* **identical**: two objects are identical if they refer to the same structure in memory\n",
    "* **equal**: two objects are equal if they have the same value; two structures are equal if their corresponding elements are equal."
   ]
  },
  {
   "cell_type": "code",
   "execution_count": 1,
   "metadata": {
    "collapsed": false,
    "deletable": true,
    "editable": true
   },
   "outputs": [],
   "source": [
    "import pprint\n",
    "import vmc\n",
    "from vmc.richmodels import Interval, Locus, Allele, Haplotype, Genotype\n",
    "from vmc.utils import multimap"
   ]
  },
  {
   "cell_type": "code",
   "execution_count": 2,
   "metadata": {
    "collapsed": false,
    "deletable": true,
    "editable": true
   },
   "outputs": [],
   "source": [
    "sr = \"NCBI:NC_000019.10\"\n",
    "\n",
    "intervals = {\n",
    "    \"rs429358\": Interval(44908683, 44908684),\n",
    "    \"rs7412\": Interval(44908821, 44908822),\n",
    "    }\n",
    "\n",
    "# logical ids are assigned at object creation if not explicitly defined\n",
    "def create_alleles():\n",
    "    return [\n",
    "        Allele(sr, intervals[\"rs429358\"], \"T\", identifiers=[\"myid:1\"]),\n",
    "        Allele(sr, intervals[\"rs429358\"], \"T\", identifiers=[\"myid:2\"]),\n",
    "    ]\n",
    "\n",
    "def print_alleles(id_function):\n",
    "    vmc.richmodels.id_function = id_function\n",
    "    alleles = create_alleles()\n",
    "    identifier_id_map = multimap((i, a.id) for a in alleles for i in a.identifiers)\n",
    "    id_identifier_map = multimap((a.id, i) for a in alleles for i in a.identifiers)\n",
    "    doc = {\n",
    "        \"alleles\": [a.as_dict() for a in alleles],\n",
    "        \"identfier_id_map\": identifier_id_map,\n",
    "        \"id_identfier_map\": id_identifier_map,\n",
    "    }\n",
    "    pprint.pprint(doc)"
   ]
  },
  {
   "cell_type": "markdown",
   "metadata": {
    "deletable": true,
    "editable": true
   },
   "source": [
    "Each section generates two *equal* but not *identical* Alleles. For example, this might occur in a system analyzing an individual with the same genomic variant on maternal and parental strands.\n",
    "\n",
    "When using an assigned (i.e., not computed) identifier, the *equivalence* between objects is not apparent. When using a computed identifier, the equivalece is readily visible in the map of ids to identifiers and identifiers to ids."
   ]
  },
  {
   "cell_type": "code",
   "execution_count": 3,
   "metadata": {
    "collapsed": false,
    "deletable": true,
    "editable": true,
    "scrolled": true
   },
   "outputs": [
    {
     "name": "stdout",
     "output_type": "stream",
     "text": [
      "{'alleles': [{'id': '95c34784-2296-4296-9b99-77cb29d2f7ad',\n",
      "              'identifiers': ['myid:1'],\n",
      "              'location': {'end': 44908684, 'start': 44908683},\n",
      "              'replacement': 'T',\n",
      "              'seqref': 'NCBI:NC_000019.10'},\n",
      "             {'id': '1a452731-65ee-4427-b5ec-ca0b5f72bc2a',\n",
      "              'identifiers': ['myid:2'],\n",
      "              'location': {'end': 44908684, 'start': 44908683},\n",
      "              'replacement': 'T',\n",
      "              'seqref': 'NCBI:NC_000019.10'}],\n",
      " 'id_identfier_map': {'1a452731-65ee-4427-b5ec-ca0b5f72bc2a': ['myid:2'],\n",
      "                      '95c34784-2296-4296-9b99-77cb29d2f7ad': ['myid:1']},\n",
      " 'identfier_id_map': {'myid:1': ['95c34784-2296-4296-9b99-77cb29d2f7ad'],\n",
      "                      'myid:2': ['1a452731-65ee-4427-b5ec-ca0b5f72bc2a']}}\n"
     ]
    }
   ],
   "source": [
    "print_alleles(\"uuid\")"
   ]
  },
  {
   "cell_type": "code",
   "execution_count": 4,
   "metadata": {
    "collapsed": false,
    "deletable": true,
    "editable": true
   },
   "outputs": [
    {
     "name": "stdout",
     "output_type": "stream",
     "text": [
      "{'alleles': [{'id': 'VMC_000001',\n",
      "              'identifiers': ['myid:1'],\n",
      "              'location': {'end': 44908684, 'start': 44908683},\n",
      "              'replacement': 'T',\n",
      "              'seqref': 'NCBI:NC_000019.10'},\n",
      "             {'id': 'VMC_000002',\n",
      "              'identifiers': ['myid:2'],\n",
      "              'location': {'end': 44908684, 'start': 44908683},\n",
      "              'replacement': 'T',\n",
      "              'seqref': 'NCBI:NC_000019.10'}],\n",
      " 'id_identfier_map': {'VMC_000001': ['myid:1'], 'VMC_000002': ['myid:2']},\n",
      " 'identfier_id_map': {'myid:1': ['VMC_000001'], 'myid:2': ['VMC_000002']}}\n"
     ]
    }
   ],
   "source": [
    "print_alleles(\"serial\")"
   ]
  },
  {
   "cell_type": "code",
   "execution_count": 5,
   "metadata": {
    "collapsed": false,
    "deletable": true,
    "editable": true
   },
   "outputs": [
    {
     "name": "stdout",
     "output_type": "stream",
     "text": [
      "{'alleles': [{'id': 'DriWL4GHjx',\n",
      "              'identifiers': ['myid:1'],\n",
      "              'location': {'end': 44908684, 'start': 44908683},\n",
      "              'replacement': 'T',\n",
      "              'seqref': 'NCBI:NC_000019.10'},\n",
      "             {'id': 'DriWL4GHjx',\n",
      "              'identifiers': ['myid:2'],\n",
      "              'location': {'end': 44908684, 'start': 44908683},\n",
      "              'replacement': 'T',\n",
      "              'seqref': 'NCBI:NC_000019.10'}],\n",
      " 'id_identfier_map': {'DriWL4GHjx': ['myid:1', 'myid:2']},\n",
      " 'identfier_id_map': {'myid:1': ['DriWL4GHjx'], 'myid:2': ['DriWL4GHjx']}}\n"
     ]
    }
   ],
   "source": [
    "print_alleles(\"digest\")"
   ]
  },
  {
   "cell_type": "code",
   "execution_count": 6,
   "metadata": {
    "collapsed": false,
    "deletable": true,
    "editable": true
   },
   "outputs": [
    {
     "name": "stdout",
     "output_type": "stream",
     "text": [
      "{'alleles': [{'id': 'GA:s9484RoL0-BQlf1sppO7HmDriWL4GHjx',\n",
      "              'identifiers': ['myid:1'],\n",
      "              'location': {'end': 44908684, 'start': 44908683},\n",
      "              'replacement': 'T',\n",
      "              'seqref': 'NCBI:NC_000019.10'},\n",
      "             {'id': 'GA:s9484RoL0-BQlf1sppO7HmDriWL4GHjx',\n",
      "              'identifiers': ['myid:2'],\n",
      "              'location': {'end': 44908684, 'start': 44908683},\n",
      "              'replacement': 'T',\n",
      "              'seqref': 'NCBI:NC_000019.10'}],\n",
      " 'id_identfier_map': {'GA:s9484RoL0-BQlf1sppO7HmDriWL4GHjx': ['myid:1',\n",
      "                                                              'myid:2']},\n",
      " 'identfier_id_map': {'myid:1': ['GA:s9484RoL0-BQlf1sppO7HmDriWL4GHjx'],\n",
      "                      'myid:2': ['GA:s9484RoL0-BQlf1sppO7HmDriWL4GHjx']}}\n"
     ]
    }
   ],
   "source": [
    "print_alleles(\"ci\")"
   ]
  },
  {
   "cell_type": "code",
   "execution_count": null,
   "metadata": {
    "collapsed": true
   },
   "outputs": [],
   "source": []
  },
  {
   "cell_type": "code",
   "execution_count": null,
   "metadata": {
    "collapsed": true
   },
   "outputs": [],
   "source": []
  },
  {
   "cell_type": "code",
   "execution_count": null,
   "metadata": {
    "collapsed": true
   },
   "outputs": [],
   "source": []
  },
  {
   "cell_type": "code",
   "execution_count": null,
   "metadata": {
    "collapsed": true
   },
   "outputs": [],
   "source": []
  }
 ],
 "metadata": {
  "kernelspec": {
   "display_name": "Python 3",
   "language": "python",
   "name": "python3"
  },
  "language_info": {
   "codemirror_mode": {
    "name": "ipython",
    "version": 3
   },
   "file_extension": ".py",
   "mimetype": "text/x-python",
   "name": "python",
   "nbconvert_exporter": "python",
   "pygments_lexer": "ipython3",
   "version": "3.5.2+"
  }
 },
 "nbformat": 4,
 "nbformat_minor": 2
}
