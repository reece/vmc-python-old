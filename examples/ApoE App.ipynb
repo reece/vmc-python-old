{
 "cells": [
  {
   "cell_type": "markdown",
   "metadata": {
    "deletable": true,
    "editable": true
   },
   "source": [
    "# Create app"
   ]
  },
  {
   "cell_type": "code",
   "execution_count": 1,
   "metadata": {
    "collapsed": false,
    "deletable": true,
    "editable": true
   },
   "outputs": [],
   "source": [
    "from vmc import Allele, Haplotype, Genotype, Interval\n",
    "from vmc.data import apoe\n",
    "from vmc.demoapp import DemoApp\n",
    "from vmc.io.json import to_json\n",
    "\n",
    "app = DemoApp()"
   ]
  },
  {
   "cell_type": "code",
   "execution_count": 2,
   "metadata": {
    "collapsed": false,
    "deletable": true,
    "editable": true
   },
   "outputs": [],
   "source": [
    "sr = \"NCBI:NC_000019.10\"\n",
    "\n",
    "intervals_by_name = {\n",
    "    \"rs429358\": Interval(44908683, 44908684),\n",
    "    \"rs7412\": Interval(44908821, 44908822),\n",
    "}\n",
    "\n",
    "alleles_by_name = {\n",
    "    \"rs429358T\": Allele(sr, intervals_by_name[\"rs429358\"], \"T\", identifiers=[\"dbsnp:rs429358T\"]),\n",
    "    \"rs429358C\": Allele(sr, intervals_by_name[\"rs429358\"], \"C\", identifiers=[\"dbsnp:rs429358C\"]),\n",
    "    \"rs7412T\"  : Allele(sr, intervals_by_name[\"rs7412\"],   \"T\", identifiers=[\"dbsnp:rs7412T\"  ]),\n",
    "    \"rs7412C\"  : Allele(sr, intervals_by_name[\"rs7412\"],   \"C\", identifiers=[\"dbsnp:rs7412C\"  ]),\n",
    "}\n",
    "\n",
    "for allele in alleles_by_name.values():\n",
    "    app.add_allele(allele)"
   ]
  },
  {
   "cell_type": "code",
   "execution_count": 3,
   "metadata": {
    "collapsed": false,
    "deletable": true,
    "editable": true
   },
   "outputs": [],
   "source": [
    "haplotypes_by_name = {\n",
    "    \"ε1\" : Haplotype([alleles_by_name[\"rs429358C\"], alleles_by_name[\"rs7412T\"]], identifiers=[\"ε1\" ]),\n",
    "    \"ε2\" : Haplotype([alleles_by_name[\"rs429358T\"], alleles_by_name[\"rs7412T\"]], identifiers=[\"ε2\" ]),\n",
    "    \"ε3\" : Haplotype([alleles_by_name[\"rs429358T\"], alleles_by_name[\"rs7412C\"]], identifiers=[\"ε3\" ]),\n",
    "    \"ε4\" : Haplotype([alleles_by_name[\"rs429358C\"], alleles_by_name[\"rs7412C\"]], identifiers=[\"ε4\" ]),\n",
    "}\n",
    "\n",
    "for haplotype in haplotypes_by_name.values():\n",
    "    app.add_haplotype(haplotype)"
   ]
  },
  {
   "cell_type": "code",
   "execution_count": 4,
   "metadata": {
    "collapsed": true,
    "deletable": true,
    "editable": true
   },
   "outputs": [],
   "source": [
    "genotypes_by_name = {\n",
    "     'ε1/ε1': Genotype([haplotypes_by_name[\"ε1\"], haplotypes_by_name[\"ε1\"]], identifiers=[\"ε1/ε1\"]),\n",
    "     'ε2/ε3': Genotype([haplotypes_by_name[\"ε1\"], haplotypes_by_name[\"ε1\"]], identifiers=[\"ε1/ε1\"]),\n",
    "     'ε3/ε2': Genotype([haplotypes_by_name[\"ε1\"], haplotypes_by_name[\"ε1\"]], identifiers=[\"ε1/ε1\"]),\n",
    "}\n",
    "\n",
    "for genotype in genotypes_by_name.values():\n",
    "    app.add_genotype(genotype)"
   ]
  },
  {
   "cell_type": "code",
   "execution_count": 5,
   "metadata": {
    "collapsed": false,
    "deletable": true,
    "editable": true
   },
   "outputs": [
    {
     "name": "stdout",
     "output_type": "stream",
     "text": [
      "{\n",
      "  \"alleles\": [\n",
      "    {\n",
      "      \"id\": \"3c4fc897-4555-4f3c-92d4-5486d128247e\",\n",
      "      \"location\": {\n",
      "        \"end\": 44908684,\n",
      "        \"start\": 44908683\n",
      "      },\n",
      "      \"replacement\": \"T\",\n",
      "      \"seqref\": \"NCBI:NC_000019.10\"\n",
      "    },\n",
      "    {\n",
      "      \"id\": \"f56ad314-7fc0-4a99-b670-51de3a6726c9\",\n",
      "      \"location\": {\n",
      "        \"end\": 44908822,\n",
      "        \"start\": 44908821\n",
      "      },\n",
      "      \"replacement\": \"C\",\n",
      "      \"seqref\": \"NCBI:NC_000019.10\"\n",
      "    },\n",
      "    {\n",
      "      \"id\": \"691acd3c-5d28-457a-af29-c04083ec204c\",\n",
      "      \"location\": {\n",
      "        \"end\": 44908822,\n",
      "        \"start\": 44908821\n",
      "      },\n",
      "      \"replacement\": \"T\",\n",
      "      \"seqref\": \"NCBI:NC_000019.10\"\n",
      "    },\n",
      "    {\n",
      "      \"id\": \"e462cbd6-abea-43d1-a09b-30bb663a3880\",\n",
      "      \"location\": {\n",
      "        \"end\": 44908684,\n",
      "        \"start\": 44908683\n",
      "      },\n",
      "      \"replacement\": \"C\",\n",
      "      \"seqref\": \"NCBI:NC_000019.10\"\n",
      "    }\n",
      "  ],\n",
      "  \"genotypes\": [\n",
      "    {\n",
      "      \"haplotype_ids\": [\n",
      "        \"0e347f93-b4c0-4665-8520-67646e5d18c2\",\n",
      "        \"0e347f93-b4c0-4665-8520-67646e5d18c2\"\n",
      "      ],\n",
      "      \"id\": \"Oa_y-QJmYdg_AiVR1e_dp_16kGt6waBb\"\n",
      "    },\n",
      "    {\n",
      "      \"haplotype_ids\": [\n",
      "        \"0e347f93-b4c0-4665-8520-67646e5d18c2\",\n",
      "        \"0e347f93-b4c0-4665-8520-67646e5d18c2\"\n",
      "      ],\n",
      "      \"id\": \"Oa_y-QJmYdg_AiVR1e_dp_16kGt6waBb\"\n",
      "    },\n",
      "    {\n",
      "      \"haplotype_ids\": [\n",
      "        \"0e347f93-b4c0-4665-8520-67646e5d18c2\",\n",
      "        \"0e347f93-b4c0-4665-8520-67646e5d18c2\"\n",
      "      ],\n",
      "      \"id\": \"Oa_y-QJmYdg_AiVR1e_dp_16kGt6waBb\"\n",
      "    }\n",
      "  ],\n",
      "  \"haplotypes\": [\n",
      "    {\n",
      "      \"allele_ids\": [\n",
      "        \"691acd3c-5d28-457a-af29-c04083ec204c\",\n",
      "        \"e462cbd6-abea-43d1-a09b-30bb663a3880\"\n",
      "      ],\n",
      "      \"id\": \"0e347f93-b4c0-4665-8520-67646e5d18c2\"\n",
      "    },\n",
      "    {\n",
      "      \"allele_ids\": [\n",
      "        \"e462cbd6-abea-43d1-a09b-30bb663a3880\",\n",
      "        \"f56ad314-7fc0-4a99-b670-51de3a6726c9\"\n",
      "      ],\n",
      "      \"id\": \"baa52f3e-68e3-486b-b7e5-311c10f0a08b\"\n",
      "    },\n",
      "    {\n",
      "      \"allele_ids\": [\n",
      "        \"3c4fc897-4555-4f3c-92d4-5486d128247e\",\n",
      "        \"f56ad314-7fc0-4a99-b670-51de3a6726c9\"\n",
      "      ],\n",
      "      \"id\": \"f170f83d-8dd6-450c-96a4-ceebaca9a933\"\n",
      "    },\n",
      "    {\n",
      "      \"allele_ids\": [\n",
      "        \"3c4fc897-4555-4f3c-92d4-5486d128247e\",\n",
      "        \"691acd3c-5d28-457a-af29-c04083ec204c\"\n",
      "      ],\n",
      "      \"id\": \"7dde244a-5c2d-4dbd-ae5c-c9171863c352\"\n",
      "    }\n",
      "  ],\n",
      "  \"identifier_id_map\": {\n",
      "    \"dbsnp:rs429358C\": \"e462cbd6-abea-43d1-a09b-30bb663a3880\",\n",
      "    \"dbsnp:rs429358T\": \"3c4fc897-4555-4f3c-92d4-5486d128247e\",\n",
      "    \"dbsnp:rs7412C\": \"f56ad314-7fc0-4a99-b670-51de3a6726c9\",\n",
      "    \"dbsnp:rs7412T\": \"691acd3c-5d28-457a-af29-c04083ec204c\",\n",
      "    \"ε1\": \"0e347f93-b4c0-4665-8520-67646e5d18c2\",\n",
      "    \"ε1/ε1\": \"6e190a5a-b213-439c-9cca-d5951d69c059\",\n",
      "    \"ε2\": \"7dde244a-5c2d-4dbd-ae5c-c9171863c352\",\n",
      "    \"ε3\": \"f170f83d-8dd6-450c-96a4-ceebaca9a933\",\n",
      "    \"ε4\": \"baa52f3e-68e3-486b-b7e5-311c10f0a08b\"\n",
      "  },\n",
      "  \"relationships\": {\n",
      "    \"classes\": {},\n",
      "    \"relations\": {\n",
      "      \"<class>\": []\n",
      "    }\n",
      "  },\n",
      "  \"vmc\": {\n",
      "    \"version\": 1\n",
      "  }\n",
      "}\n"
     ]
    }
   ],
   "source": [
    "print(app.to_json())"
   ]
  }
 ],
 "metadata": {
  "kernelspec": {
   "display_name": "Python 3",
   "language": "python",
   "name": "python3"
  },
  "language_info": {
   "codemirror_mode": {
    "name": "ipython",
    "version": 3
   },
   "file_extension": ".py",
   "mimetype": "text/x-python",
   "name": "python",
   "nbconvert_exporter": "python",
   "pygments_lexer": "ipython3",
   "version": "3.5.2+"
  }
 },
 "nbformat": 4,
 "nbformat_minor": 2
}
