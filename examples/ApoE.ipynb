{
 "cells": [
  {
   "cell_type": "markdown",
   "metadata": {
    "deletable": true,
    "editable": true
   },
   "source": [
    "```\n",
    "                             rs7412 \n",
    "                             NC_000019.10:g.44908822\n",
    "                             C          T\n",
    "rs429358                 C   APOE-ε4    APOE-ε1\n",
    "NC_000019.10:g.44908684  T   APOE-ε3    APOE-ε2\n",
    "http://snpedia.com/index.php/APOE\n",
    "```"
   ]
  },
  {
   "cell_type": "markdown",
   "metadata": {
    "deletable": true,
    "editable": true
   },
   "source": [
    "# Setup"
   ]
  },
  {
   "cell_type": "code",
   "execution_count": 1,
   "metadata": {
    "collapsed": false,
    "deletable": true,
    "editable": true
   },
   "outputs": [],
   "source": [
    "import json\n",
    "import pprint\n",
    "\n",
    "from vmc.richmodels import Interval, Locus, Allele, Haplotype, Genotype\n",
    "import vmc.codecs.json\n",
    "\n",
    "vmc.richmodels.id_function = \"uuid\"\n",
    "vmc.richmodels.id_function = \"digest\"\n",
    "\n",
    "def to_json(o):\n",
    "    return json.dumps(o, indent=2, sort_keys=True, cls=vmc.codecs.json.JSONEncoder, ensure_ascii=False)"
   ]
  },
  {
   "cell_type": "markdown",
   "metadata": {
    "deletable": true,
    "editable": true
   },
   "source": [
    "# Identifier"
   ]
  },
  {
   "cell_type": "code",
   "execution_count": 2,
   "metadata": {
    "collapsed": true,
    "deletable": true,
    "editable": true
   },
   "outputs": [],
   "source": [
    "sr = \"NCBI:NC_000019.10\""
   ]
  },
  {
   "cell_type": "markdown",
   "metadata": {
    "deletable": true,
    "editable": true
   },
   "source": [
    "# Interval"
   ]
  },
  {
   "cell_type": "code",
   "execution_count": 3,
   "metadata": {
    "collapsed": false,
    "deletable": true,
    "editable": true
   },
   "outputs": [
    {
     "name": "stdout",
     "output_type": "stream",
     "text": [
      "r=Interval(start=44908683, end=44908684)\n",
      "s=44908683:44908684\n",
      "j={\n",
      "  \"end\": 44908684,\n",
      "  \"start\": 44908683\n",
      "}\n"
     ]
    }
   ],
   "source": [
    "intervals = {\n",
    "    \"rs429358\": Interval(44908683, 44908684),\n",
    "    \"rs7412\": Interval(44908821, 44908822),\n",
    "    }\n",
    "\n",
    "o = intervals[\"rs429358\"]\n",
    "print(\"r={o!r}\\ns={o}\\nj={j}\".format(o=o, j=to_json(o)))"
   ]
  },
  {
   "cell_type": "markdown",
   "metadata": {
    "deletable": true,
    "editable": true
   },
   "source": [
    "# Locus"
   ]
  },
  {
   "cell_type": "code",
   "execution_count": 4,
   "metadata": {
    "collapsed": false,
    "deletable": true,
    "editable": true
   },
   "outputs": [
    {
     "name": "stdout",
     "output_type": "stream",
     "text": [
      "r=Locus(seqref='NCBI:NC_000019.10', location=Interval(start=44908683, end=44908684), id=None)\n",
      "s=NCBI:NC_000019.10:44908683:44908684\n",
      "id=None\n",
      "j={\n",
      "  \"id\": null,\n",
      "  \"location\": {\n",
      "    \"end\": 44908684,\n",
      "    \"start\": 44908683\n",
      "  },\n",
      "  \"seqref\": \"NCBI:NC_000019.10\"\n",
      "}\n"
     ]
    }
   ],
   "source": [
    "loci = {\n",
    "    \"rs429358\": Locus(sr, intervals[\"rs429358\"]),\n",
    "    \"rs7412\": Locus(sr, intervals[\"rs7412\"]),\n",
    "}\n",
    "\n",
    "o = loci[\"rs429358\"]\n",
    "print(\"r={o!r}\\ns={o}\\nid={o.id}\\nj={j}\".format(o=o, j=to_json(o)))"
   ]
  },
  {
   "cell_type": "markdown",
   "metadata": {
    "deletable": true,
    "editable": true
   },
   "source": [
    "# Alleles"
   ]
  },
  {
   "cell_type": "code",
   "execution_count": 5,
   "metadata": {
    "collapsed": false,
    "deletable": true,
    "editable": true
   },
   "outputs": [
    {
     "name": "stdout",
     "output_type": "stream",
     "text": [
      "r=Allele(seqref='NCBI:NC_000019.10', location=Interval(start=44908683, end=44908684), replacement='C', id='uBocJSAilo', identifiers=[])\n",
      "s=NCBI:NC_000019.10:44908683:44908684:C\n",
      "id=uBocJSAilo\n",
      "j={\n",
      "  \"id\": \"uBocJSAilo\",\n",
      "  \"identifiers\": [],\n",
      "  \"location\": {\n",
      "    \"end\": 44908684,\n",
      "    \"start\": 44908683\n",
      "  },\n",
      "  \"replacement\": \"C\",\n",
      "  \"seqref\": \"NCBI:NC_000019.10\"\n",
      "}\n"
     ]
    }
   ],
   "source": [
    "alleles = {\n",
    "    \"rs429358T\": Allele(sr, intervals[\"rs429358\"], \"T\"),\n",
    "    \"rs429358C\": Allele(sr, intervals[\"rs429358\"], \"C\"),\n",
    "    \"rs7412T\":   Allele(sr, intervals[\"rs7412\"],   \"T\"),\n",
    "    \"rs7412C\":   Allele(sr, intervals[\"rs7412\"],   \"C\"),\n",
    "    }\n",
    "o = alleles[\"rs429358C\"]\n",
    "print(\"r={o!r}\\ns={o}\\nid={o.id}\\nj={j}\".format(o=o, j=to_json(o)))"
   ]
  },
  {
   "cell_type": "markdown",
   "metadata": {
    "deletable": true,
    "editable": true
   },
   "source": [
    "# Haplotypes"
   ]
  },
  {
   "cell_type": "code",
   "execution_count": 6,
   "metadata": {
    "collapsed": false,
    "deletable": true,
    "editable": true,
    "scrolled": true
   },
   "outputs": [
    {
     "name": "stdout",
     "output_type": "stream",
     "text": [
      "r=Haplotype(alleles=[Allele(seqref='NCBI:NC_000019.10', location=Interval(start=44908683, end=44908684), replacement='C', id='uBocJSAilo', identifiers=[]), Allele(seqref='NCBI:NC_000019.10', location=Interval(start=44908821, end=44908822), replacement='T', id='MY3zDtCFN8', identifiers=[])], id='i0SCxJp24-', identifiers=[])\n",
      "s=Haplotype(alleles=[Allele(seqref='NCBI:NC_000019.10', location=Interval(start=44908683, end=44908684), replacement='C', id='uBocJSAilo', identifiers=[]), Allele(seqref='NCBI:NC_000019.10', location=Interval(start=44908821, end=44908822), replacement='T', id='MY3zDtCFN8', identifiers=[])], id='i0SCxJp24-', identifiers=[])\n",
      "id=i0SCxJp24-\n",
      "j={\n",
      "  \"allele_ids\": [\n",
      "    \"MY3zDtCFN8\",\n",
      "    \"uBocJSAilo\"\n",
      "  ],\n",
      "  \"id\": \"i0SCxJp24-\"\n",
      "}\n"
     ]
    }
   ],
   "source": [
    "haplotypes = {\n",
    "    \"ε1\": Haplotype([alleles[\"rs429358C\"], alleles[\"rs7412T\"]]),\n",
    "    \"ε2\": Haplotype([alleles[\"rs429358T\"], alleles[\"rs7412T\"]]),\n",
    "    \"ε3\": Haplotype([alleles[\"rs429358T\"], alleles[\"rs7412C\"]]),\n",
    "    \"ε4\": Haplotype([alleles[\"rs429358C\"], alleles[\"rs7412C\"]]),\n",
    "    \"ε4r\": Haplotype([alleles[\"rs7412C\"], alleles[\"rs429358C\"]]),\n",
    "    }\n",
    "\n",
    "o = haplotypes[\"ε1\"]\n",
    "print(\"r={o!r}\\ns={o}\\nid={o.id}\\nj={j}\".format(o=o, j=to_json(o)))"
   ]
  },
  {
   "cell_type": "code",
   "execution_count": 7,
   "metadata": {
    "collapsed": false,
    "deletable": true,
    "editable": true
   },
   "outputs": [
    {
     "name": "stdout",
     "output_type": "stream",
     "text": [
      "{'5nDsuTc-tN': ['ε2'],\n",
      " 'i0SCxJp24-': ['ε1'],\n",
      " 'i4BSqxa8G9': ['ε3'],\n",
      " 'nGEpOLlNtf': ['ε4', 'ε4r']}\n"
     ]
    }
   ],
   "source": [
    "from vmc.utils import multimap\n",
    "haplotype_id_name_map = multimap((haplotypes[n].id, n) for n in haplotypes)\n",
    "pprint.pprint(haplotype_id_name_map)"
   ]
  },
  {
   "cell_type": "markdown",
   "metadata": {
    "deletable": true,
    "editable": true
   },
   "source": [
    "# Genotypes"
   ]
  },
  {
   "cell_type": "code",
   "execution_count": 8,
   "metadata": {
    "collapsed": false,
    "deletable": true,
    "editable": true
   },
   "outputs": [
    {
     "name": "stdout",
     "output_type": "stream",
     "text": [
      "r=Genotype(haplotypes=[Haplotype(alleles=[Allele(seqref='NCBI:NC_000019.10', location=Interval(start=44908683, end=44908684), replacement='C', id='uBocJSAilo', identifiers=[]), Allele(seqref='NCBI:NC_000019.10', location=Interval(start=44908821, end=44908822), replacement='C', id='AUbGAr-aBT', identifiers=[])], id='nGEpOLlNtf', identifiers=[]), Haplotype(alleles=[Allele(seqref='NCBI:NC_000019.10', location=Interval(start=44908821, end=44908822), replacement='C', id='AUbGAr-aBT', identifiers=[]), Allele(seqref='NCBI:NC_000019.10', location=Interval(start=44908683, end=44908684), replacement='C', id='uBocJSAilo', identifiers=[])], id='nGEpOLlNtf', identifiers=[])], id='O9P1aweZ9k', identifiers=[])\n",
      "s=Genotype(haplotypes=[Haplotype(alleles=[Allele(seqref='NCBI:NC_000019.10', location=Interval(start=44908683, end=44908684), replacement='C', id='uBocJSAilo', identifiers=[]), Allele(seqref='NCBI:NC_000019.10', location=Interval(start=44908821, end=44908822), replacement='C', id='AUbGAr-aBT', identifiers=[])], id='nGEpOLlNtf', identifiers=[]), Haplotype(alleles=[Allele(seqref='NCBI:NC_000019.10', location=Interval(start=44908821, end=44908822), replacement='C', id='AUbGAr-aBT', identifiers=[]), Allele(seqref='NCBI:NC_000019.10', location=Interval(start=44908683, end=44908684), replacement='C', id='uBocJSAilo', identifiers=[])], id='nGEpOLlNtf', identifiers=[])], id='O9P1aweZ9k', identifiers=[])\n",
      "id=O9P1aweZ9k\n",
      "j={\n",
      "  \"haplotype_ids\": [\n",
      "    \"nGEpOLlNtf\",\n",
      "    \"nGEpOLlNtf\"\n",
      "  ],\n",
      "  \"id\": \"O9P1aweZ9k\"\n",
      "}\n"
     ]
    }
   ],
   "source": [
    "genotypes = {\n",
    "    \"{}/{}\".format(h1n, h2n): Genotype([h1, h2])\n",
    "    for h1n, h1 in haplotypes.items()\n",
    "    for h2n, h2 in haplotypes.items()\n",
    "    }\n",
    "\n",
    "o = genotypes[\"ε4/ε4r\"]\n",
    "print(\"r={o!r}\\ns={o}\\nid={o.id}\\nj={j}\".format(o=o, j=to_json(o)))"
   ]
  },
  {
   "cell_type": "markdown",
   "metadata": {
    "deletable": true,
    "editable": true
   },
   "source": [
    "# Associating data"
   ]
  },
  {
   "cell_type": "markdown",
   "metadata": {
    "deletable": true,
    "editable": true
   },
   "source": [
    "## External Identifiers"
   ]
  },
  {
   "cell_type": "code",
   "execution_count": 9,
   "metadata": {
    "collapsed": false,
    "deletable": true,
    "editable": true,
    "scrolled": true
   },
   "outputs": [
    {
     "data": {
      "text/plain": [
       "{'GA:5Kz4eJfHVW2mKcGjY3rgjQAUbGAr-aBT': ['AUbGAr-aBT'],\n",
       " 'GA:HW17jzWbPWQyIcRdwwyeKvuBocJSAilo': ['uBocJSAilo'],\n",
       " 'GA:s9484RoL0-BQlf1sppO7HmDriWL4GHjx': ['DriWL4GHjx'],\n",
       " 'GA:uynDR_lCUsmDMN0LWAbpQZMY3zDtCFN8': ['MY3zDtCFN8'],\n",
       " 'GG:2CLolzZMnVzC_inXALl7eAufBIZXqUM0': ['ufBIZXqUM0', 'ufBIZXqUM0'],\n",
       " 'GG:DA1Gtie9O6lySp-6ONeNhffOAcnwIq9P': ['fOAcnwIq9P'],\n",
       " 'GG:QQgbv45hKoAP4CfL0DT5omsJKWRs_TOF': ['sJKWRs_TOF',\n",
       "  'sJKWRs_TOF',\n",
       "  'sJKWRs_TOF',\n",
       "  'sJKWRs_TOF'],\n",
       " 'GG:WWVaQU6YdwCpZLF1kR3se5vPDVomeEXQ': ['vPDVomeEXQ'],\n",
       " 'GG:_SU3lBFQuqLW06NOZ8IAhDZkTgob7h3F': ['ZkTgob7h3F', 'ZkTgob7h3F'],\n",
       " 'GG:_uq2kJfLezLKwSOB0mGGm9T0Jbj6ZMA0': ['T0Jbj6ZMA0',\n",
       "  'T0Jbj6ZMA0',\n",
       "  'T0Jbj6ZMA0',\n",
       "  'T0Jbj6ZMA0'],\n",
       " 'GG:cEyezPUQv9EuxUmZe6JbaVO9P1aweZ9k': ['O9P1aweZ9k',\n",
       "  'O9P1aweZ9k',\n",
       "  'O9P1aweZ9k',\n",
       "  'O9P1aweZ9k'],\n",
       " 'GG:e80rV05VbzK-b_duVlO3_4ZiuDaPcAUP': ['ZiuDaPcAUP',\n",
       "  'ZiuDaPcAUP',\n",
       "  'ZiuDaPcAUP',\n",
       "  'ZiuDaPcAUP'],\n",
       " 'GG:jhPS2pK6zHetS-wes_XGSBspLS2eLfgR': ['spLS2eLfgR'],\n",
       " 'GG:uNQUl8igBqyKujxl-jVaGX9JDAVOY37V': ['9JDAVOY37V', '9JDAVOY37V'],\n",
       " 'GH:AdlZRzVFC8c10fmIGGWw28i4BSqxa8G9': ['i4BSqxa8G9'],\n",
       " 'GH:Wlt5WcYnOcEnkP0mroRC7TnGEpOLlNtf': ['nGEpOLlNtf', 'nGEpOLlNtf'],\n",
       " 'GH:lANMrDPTgtgLp_o37c2NgJi0SCxJp24-': ['i0SCxJp24-'],\n",
       " 'GH:sHMcYSRdzWM3Tk_b9tqjh75nDsuTc-tN': ['5nDsuTc-tN']}"
      ]
     },
     "execution_count": 9,
     "metadata": {},
     "output_type": "execute_result"
    }
   ],
   "source": [
    "identifier_id_map = {}\n",
    "identifier_id_map.update(multimap((a.computed_identifier(), a.id) for a in alleles.values()))\n",
    "identifier_id_map.update(multimap((h.computed_identifier(), h.id) for h in haplotypes.values()))\n",
    "identifier_id_map.update(multimap((g.computed_identifier(), g.id) for g in genotypes.values()))\n",
    "identifier_id_map\n"
   ]
  },
  {
   "cell_type": "markdown",
   "metadata": {
    "deletable": true,
    "editable": true
   },
   "source": [
    "## Allele equivalence when defined on different sequences"
   ]
  },
  {
   "cell_type": "code",
   "execution_count": 10,
   "metadata": {
    "collapsed": false,
    "deletable": true,
    "editable": true
   },
   "outputs": [],
   "source": [
    "a1 = alleles[\"rs429358C\"]"
   ]
  },
  {
   "cell_type": "code",
   "execution_count": 11,
   "metadata": {
    "collapsed": true,
    "deletable": true,
    "editable": true
   },
   "outputs": [],
   "source": [
    "a2 = Allele(\"NCBI:CM000681.2\", Interval(start=44908683, end=44908684), replacement=\"C\")"
   ]
  },
  {
   "cell_type": "code",
   "execution_count": 12,
   "metadata": {
    "collapsed": false,
    "deletable": true,
    "editable": true
   },
   "outputs": [
    {
     "name": "stdout",
     "output_type": "stream",
     "text": [
      "NCBI:NC_000019.10:44908683:44908684:C uBocJSAilo\n",
      "NCBI:CM000681.2:44908683:44908684:C 6dnjxvre_C\n"
     ]
    }
   ],
   "source": [
    "print(a1, a1.id)\n",
    "print(a2, a2.id)"
   ]
  },
  {
   "cell_type": "code",
   "execution_count": 13,
   "metadata": {
    "collapsed": true,
    "deletable": true,
    "editable": true
   },
   "outputs": [],
   "source": [
    "import biocommons.seqrepo\n",
    "sr = biocommons.seqrepo.SeqRepo(\"/usr/local/share/seqrepo/master\")"
   ]
  },
  {
   "cell_type": "code",
   "execution_count": 14,
   "metadata": {
    "collapsed": false,
    "deletable": true,
    "editable": true
   },
   "outputs": [],
   "source": [
    "from vmc.utils import seq_id"
   ]
  },
  {
   "cell_type": "code",
   "execution_count": 15,
   "metadata": {
    "collapsed": false,
    "deletable": true,
    "editable": true
   },
   "outputs": [],
   "source": [
    "b1 = Allele(seq_id(sr, a1.seqref), a1.location, a1.replacement)\n",
    "b2 = Allele(seq_id(sr, a2.seqref), a2.location, a2.replacement)"
   ]
  },
  {
   "cell_type": "code",
   "execution_count": 16,
   "metadata": {
    "collapsed": false,
    "deletable": true,
    "editable": true
   },
   "outputs": [
    {
     "name": "stdout",
     "output_type": "stream",
     "text": [
      "GS:IIB53T8CNeJJdUqzn9V_JnRtQadwWCbl:44908683:44908684:C GA:GMpC3hSMPgE9pZdbDdWE7iXFfjweLMRZ\n",
      "GS:IIB53T8CNeJJdUqzn9V_JnRtQadwWCbl:44908683:44908684:C GA:GMpC3hSMPgE9pZdbDdWE7iXFfjweLMRZ\n"
     ]
    }
   ],
   "source": [
    "print(b1, b1.computed_identifier())\n",
    "print(b2, b2.computed_identifier())"
   ]
  },
  {
   "cell_type": "markdown",
   "metadata": {
    "deletable": true,
    "editable": true
   },
   "source": [
    "## Associating Haplotype names with Haplotype computed identifiers"
   ]
  },
  {
   "cell_type": "code",
   "execution_count": 17,
   "metadata": {
    "collapsed": true,
    "deletable": true,
    "editable": true
   },
   "outputs": [],
   "source": [
    "gt = genotypes[\"ε1/ε2\"]"
   ]
  },
  {
   "cell_type": "code",
   "execution_count": 18,
   "metadata": {
    "collapsed": false,
    "deletable": true,
    "editable": true,
    "scrolled": true
   },
   "outputs": [
    {
     "data": {
      "text/plain": [
       "['5nDsuTc-tN', 'i0SCxJp24-']"
      ]
     },
     "execution_count": 18,
     "metadata": {},
     "output_type": "execute_result"
    }
   ],
   "source": [
    "gt.haplotype_ids()"
   ]
  },
  {
   "cell_type": "code",
   "execution_count": 19,
   "metadata": {
    "collapsed": false,
    "deletable": true,
    "editable": true
   },
   "outputs": [
    {
     "data": {
      "text/plain": [
       "[['ε2'], ['ε1']]"
      ]
     },
     "execution_count": 19,
     "metadata": {},
     "output_type": "execute_result"
    }
   ],
   "source": [
    "[haplotype_id_name_map[hid] for hid in gt.haplotype_ids()]"
   ]
  },
  {
   "cell_type": "markdown",
   "metadata": {
    "deletable": true,
    "editable": true
   },
   "source": [
    "# Document Example"
   ]
  },
  {
   "cell_type": "code",
   "execution_count": 20,
   "metadata": {
    "collapsed": false,
    "deletable": true,
    "editable": true
   },
   "outputs": [
    {
     "name": "stdout",
     "output_type": "stream",
     "text": [
      "{\n",
      "  \"date\": \"2016-11-27T00:00:00\",\n",
      "  \"sample-id\": \"e89c387a-b539-11e6-9d82-fb96077e5724\",\n",
      "  \"variation\": {\n",
      "    \"alleles\": {\n",
      "      \"rs429358C\": {\n",
      "        \"id\": \"uBocJSAilo\",\n",
      "        \"identifiers\": [],\n",
      "        \"location\": {\n",
      "          \"end\": 44908684,\n",
      "          \"start\": 44908683\n",
      "        },\n",
      "        \"replacement\": \"C\",\n",
      "        \"seqref\": \"NCBI:NC_000019.10\"\n",
      "      },\n",
      "      \"rs429358T\": {\n",
      "        \"id\": \"DriWL4GHjx\",\n",
      "        \"identifiers\": [],\n",
      "        \"location\": {\n",
      "          \"end\": 44908684,\n",
      "          \"start\": 44908683\n",
      "        },\n",
      "        \"replacement\": \"T\",\n",
      "        \"seqref\": \"NCBI:NC_000019.10\"\n",
      "      },\n",
      "      \"rs7412C\": {\n",
      "        \"id\": \"AUbGAr-aBT\",\n",
      "        \"identifiers\": [],\n",
      "        \"location\": {\n",
      "          \"end\": 44908822,\n",
      "          \"start\": 44908821\n",
      "        },\n",
      "        \"replacement\": \"C\",\n",
      "        \"seqref\": \"NCBI:NC_000019.10\"\n",
      "      },\n",
      "      \"rs7412T\": {\n",
      "        \"id\": \"MY3zDtCFN8\",\n",
      "        \"identifiers\": [],\n",
      "        \"location\": {\n",
      "          \"end\": 44908822,\n",
      "          \"start\": 44908821\n",
      "        },\n",
      "        \"replacement\": \"T\",\n",
      "        \"seqref\": \"NCBI:NC_000019.10\"\n",
      "      }\n",
      "    },\n",
      "    \"genotypes\": {\n",
      "      \"ε1/ε1\": {\n",
      "        \"haplotype_ids\": [\n",
      "          \"i0SCxJp24-\",\n",
      "          \"i0SCxJp24-\"\n",
      "        ],\n",
      "        \"id\": \"fOAcnwIq9P\"\n",
      "      },\n",
      "      \"ε1/ε2\": {\n",
      "        \"haplotype_ids\": [\n",
      "          \"5nDsuTc-tN\",\n",
      "          \"i0SCxJp24-\"\n",
      "        ],\n",
      "        \"id\": \"9JDAVOY37V\"\n",
      "      },\n",
      "      \"ε1/ε3\": {\n",
      "        \"haplotype_ids\": [\n",
      "          \"i0SCxJp24-\",\n",
      "          \"i4BSqxa8G9\"\n",
      "        ],\n",
      "        \"id\": \"ufBIZXqUM0\"\n",
      "      },\n",
      "      \"ε1/ε4\": {\n",
      "        \"haplotype_ids\": [\n",
      "          \"i0SCxJp24-\",\n",
      "          \"nGEpOLlNtf\"\n",
      "        ],\n",
      "        \"id\": \"T0Jbj6ZMA0\"\n",
      "      },\n",
      "      \"ε1/ε4r\": {\n",
      "        \"haplotype_ids\": [\n",
      "          \"i0SCxJp24-\",\n",
      "          \"nGEpOLlNtf\"\n",
      "        ],\n",
      "        \"id\": \"T0Jbj6ZMA0\"\n",
      "      },\n",
      "      \"ε2/ε1\": {\n",
      "        \"haplotype_ids\": [\n",
      "          \"5nDsuTc-tN\",\n",
      "          \"i0SCxJp24-\"\n",
      "        ],\n",
      "        \"id\": \"9JDAVOY37V\"\n",
      "      },\n",
      "      \"ε2/ε2\": {\n",
      "        \"haplotype_ids\": [\n",
      "          \"5nDsuTc-tN\",\n",
      "          \"5nDsuTc-tN\"\n",
      "        ],\n",
      "        \"id\": \"spLS2eLfgR\"\n",
      "      },\n",
      "      \"ε2/ε3\": {\n",
      "        \"haplotype_ids\": [\n",
      "          \"5nDsuTc-tN\",\n",
      "          \"i4BSqxa8G9\"\n",
      "        ],\n",
      "        \"id\": \"ZkTgob7h3F\"\n",
      "      },\n",
      "      \"ε2/ε4\": {\n",
      "        \"haplotype_ids\": [\n",
      "          \"5nDsuTc-tN\",\n",
      "          \"nGEpOLlNtf\"\n",
      "        ],\n",
      "        \"id\": \"ZiuDaPcAUP\"\n",
      "      },\n",
      "      \"ε2/ε4r\": {\n",
      "        \"haplotype_ids\": [\n",
      "          \"5nDsuTc-tN\",\n",
      "          \"nGEpOLlNtf\"\n",
      "        ],\n",
      "        \"id\": \"ZiuDaPcAUP\"\n",
      "      },\n",
      "      \"ε3/ε1\": {\n",
      "        \"haplotype_ids\": [\n",
      "          \"i0SCxJp24-\",\n",
      "          \"i4BSqxa8G9\"\n",
      "        ],\n",
      "        \"id\": \"ufBIZXqUM0\"\n",
      "      },\n",
      "      \"ε3/ε2\": {\n",
      "        \"haplotype_ids\": [\n",
      "          \"5nDsuTc-tN\",\n",
      "          \"i4BSqxa8G9\"\n",
      "        ],\n",
      "        \"id\": \"ZkTgob7h3F\"\n",
      "      },\n",
      "      \"ε3/ε3\": {\n",
      "        \"haplotype_ids\": [\n",
      "          \"i4BSqxa8G9\",\n",
      "          \"i4BSqxa8G9\"\n",
      "        ],\n",
      "        \"id\": \"vPDVomeEXQ\"\n",
      "      },\n",
      "      \"ε3/ε4\": {\n",
      "        \"haplotype_ids\": [\n",
      "          \"i4BSqxa8G9\",\n",
      "          \"nGEpOLlNtf\"\n",
      "        ],\n",
      "        \"id\": \"sJKWRs_TOF\"\n",
      "      },\n",
      "      \"ε3/ε4r\": {\n",
      "        \"haplotype_ids\": [\n",
      "          \"i4BSqxa8G9\",\n",
      "          \"nGEpOLlNtf\"\n",
      "        ],\n",
      "        \"id\": \"sJKWRs_TOF\"\n",
      "      },\n",
      "      \"ε4/ε1\": {\n",
      "        \"haplotype_ids\": [\n",
      "          \"i0SCxJp24-\",\n",
      "          \"nGEpOLlNtf\"\n",
      "        ],\n",
      "        \"id\": \"T0Jbj6ZMA0\"\n",
      "      },\n",
      "      \"ε4/ε2\": {\n",
      "        \"haplotype_ids\": [\n",
      "          \"5nDsuTc-tN\",\n",
      "          \"nGEpOLlNtf\"\n",
      "        ],\n",
      "        \"id\": \"ZiuDaPcAUP\"\n",
      "      },\n",
      "      \"ε4/ε3\": {\n",
      "        \"haplotype_ids\": [\n",
      "          \"i4BSqxa8G9\",\n",
      "          \"nGEpOLlNtf\"\n",
      "        ],\n",
      "        \"id\": \"sJKWRs_TOF\"\n",
      "      },\n",
      "      \"ε4/ε4\": {\n",
      "        \"haplotype_ids\": [\n",
      "          \"nGEpOLlNtf\",\n",
      "          \"nGEpOLlNtf\"\n",
      "        ],\n",
      "        \"id\": \"O9P1aweZ9k\"\n",
      "      },\n",
      "      \"ε4/ε4r\": {\n",
      "        \"haplotype_ids\": [\n",
      "          \"nGEpOLlNtf\",\n",
      "          \"nGEpOLlNtf\"\n",
      "        ],\n",
      "        \"id\": \"O9P1aweZ9k\"\n",
      "      },\n",
      "      \"ε4r/ε1\": {\n",
      "        \"haplotype_ids\": [\n",
      "          \"i0SCxJp24-\",\n",
      "          \"nGEpOLlNtf\"\n",
      "        ],\n",
      "        \"id\": \"T0Jbj6ZMA0\"\n",
      "      },\n",
      "      \"ε4r/ε2\": {\n",
      "        \"haplotype_ids\": [\n",
      "          \"5nDsuTc-tN\",\n",
      "          \"nGEpOLlNtf\"\n",
      "        ],\n",
      "        \"id\": \"ZiuDaPcAUP\"\n",
      "      },\n",
      "      \"ε4r/ε3\": {\n",
      "        \"haplotype_ids\": [\n",
      "          \"i4BSqxa8G9\",\n",
      "          \"nGEpOLlNtf\"\n",
      "        ],\n",
      "        \"id\": \"sJKWRs_TOF\"\n",
      "      },\n",
      "      \"ε4r/ε4\": {\n",
      "        \"haplotype_ids\": [\n",
      "          \"nGEpOLlNtf\",\n",
      "          \"nGEpOLlNtf\"\n",
      "        ],\n",
      "        \"id\": \"O9P1aweZ9k\"\n",
      "      },\n",
      "      \"ε4r/ε4r\": {\n",
      "        \"haplotype_ids\": [\n",
      "          \"nGEpOLlNtf\",\n",
      "          \"nGEpOLlNtf\"\n",
      "        ],\n",
      "        \"id\": \"O9P1aweZ9k\"\n",
      "      }\n",
      "    },\n",
      "    \"haplotypes\": {\n",
      "      \"ε1\": {\n",
      "        \"allele_ids\": [\n",
      "          \"MY3zDtCFN8\",\n",
      "          \"uBocJSAilo\"\n",
      "        ],\n",
      "        \"id\": \"i0SCxJp24-\"\n",
      "      },\n",
      "      \"ε2\": {\n",
      "        \"allele_ids\": [\n",
      "          \"DriWL4GHjx\",\n",
      "          \"MY3zDtCFN8\"\n",
      "        ],\n",
      "        \"id\": \"5nDsuTc-tN\"\n",
      "      },\n",
      "      \"ε3\": {\n",
      "        \"allele_ids\": [\n",
      "          \"AUbGAr-aBT\",\n",
      "          \"DriWL4GHjx\"\n",
      "        ],\n",
      "        \"id\": \"i4BSqxa8G9\"\n",
      "      },\n",
      "      \"ε4\": {\n",
      "        \"allele_ids\": [\n",
      "          \"AUbGAr-aBT\",\n",
      "          \"uBocJSAilo\"\n",
      "        ],\n",
      "        \"id\": \"nGEpOLlNtf\"\n",
      "      },\n",
      "      \"ε4r\": {\n",
      "        \"allele_ids\": [\n",
      "          \"AUbGAr-aBT\",\n",
      "          \"uBocJSAilo\"\n",
      "        ],\n",
      "        \"id\": \"nGEpOLlNtf\"\n",
      "      }\n",
      "    },\n",
      "    \"identifier_id_map\": {\n",
      "      \"GA:5Kz4eJfHVW2mKcGjY3rgjQAUbGAr-aBT\": [\n",
      "        \"AUbGAr-aBT\"\n",
      "      ],\n",
      "      \"GA:HW17jzWbPWQyIcRdwwyeKvuBocJSAilo\": [\n",
      "        \"uBocJSAilo\"\n",
      "      ],\n",
      "      \"GA:s9484RoL0-BQlf1sppO7HmDriWL4GHjx\": [\n",
      "        \"DriWL4GHjx\"\n",
      "      ],\n",
      "      \"GA:uynDR_lCUsmDMN0LWAbpQZMY3zDtCFN8\": [\n",
      "        \"MY3zDtCFN8\"\n",
      "      ],\n",
      "      \"GG:2CLolzZMnVzC_inXALl7eAufBIZXqUM0\": [\n",
      "        \"ufBIZXqUM0\",\n",
      "        \"ufBIZXqUM0\"\n",
      "      ],\n",
      "      \"GG:DA1Gtie9O6lySp-6ONeNhffOAcnwIq9P\": [\n",
      "        \"fOAcnwIq9P\"\n",
      "      ],\n",
      "      \"GG:QQgbv45hKoAP4CfL0DT5omsJKWRs_TOF\": [\n",
      "        \"sJKWRs_TOF\",\n",
      "        \"sJKWRs_TOF\",\n",
      "        \"sJKWRs_TOF\",\n",
      "        \"sJKWRs_TOF\"\n",
      "      ],\n",
      "      \"GG:WWVaQU6YdwCpZLF1kR3se5vPDVomeEXQ\": [\n",
      "        \"vPDVomeEXQ\"\n",
      "      ],\n",
      "      \"GG:_SU3lBFQuqLW06NOZ8IAhDZkTgob7h3F\": [\n",
      "        \"ZkTgob7h3F\",\n",
      "        \"ZkTgob7h3F\"\n",
      "      ],\n",
      "      \"GG:_uq2kJfLezLKwSOB0mGGm9T0Jbj6ZMA0\": [\n",
      "        \"T0Jbj6ZMA0\",\n",
      "        \"T0Jbj6ZMA0\",\n",
      "        \"T0Jbj6ZMA0\",\n",
      "        \"T0Jbj6ZMA0\"\n",
      "      ],\n",
      "      \"GG:cEyezPUQv9EuxUmZe6JbaVO9P1aweZ9k\": [\n",
      "        \"O9P1aweZ9k\",\n",
      "        \"O9P1aweZ9k\",\n",
      "        \"O9P1aweZ9k\",\n",
      "        \"O9P1aweZ9k\"\n",
      "      ],\n",
      "      \"GG:e80rV05VbzK-b_duVlO3_4ZiuDaPcAUP\": [\n",
      "        \"ZiuDaPcAUP\",\n",
      "        \"ZiuDaPcAUP\",\n",
      "        \"ZiuDaPcAUP\",\n",
      "        \"ZiuDaPcAUP\"\n",
      "      ],\n",
      "      \"GG:jhPS2pK6zHetS-wes_XGSBspLS2eLfgR\": [\n",
      "        \"spLS2eLfgR\"\n",
      "      ],\n",
      "      \"GG:uNQUl8igBqyKujxl-jVaGX9JDAVOY37V\": [\n",
      "        \"9JDAVOY37V\",\n",
      "        \"9JDAVOY37V\"\n",
      "      ],\n",
      "      \"GH:AdlZRzVFC8c10fmIGGWw28i4BSqxa8G9\": [\n",
      "        \"i4BSqxa8G9\"\n",
      "      ],\n",
      "      \"GH:Wlt5WcYnOcEnkP0mroRC7TnGEpOLlNtf\": [\n",
      "        \"nGEpOLlNtf\",\n",
      "        \"nGEpOLlNtf\"\n",
      "      ],\n",
      "      \"GH:lANMrDPTgtgLp_o37c2NgJi0SCxJp24-\": [\n",
      "        \"i0SCxJp24-\"\n",
      "      ],\n",
      "      \"GH:sHMcYSRdzWM3Tk_b9tqjh75nDsuTc-tN\": [\n",
      "        \"5nDsuTc-tN\"\n",
      "      ]\n",
      "    },\n",
      "    \"meta\": {\n",
      "      \"id_scheme\": \"computed\",\n",
      "      \"vmc_schema_version\": 1\n",
      "    }\n",
      "  }\n",
      "}\n"
     ]
    }
   ],
   "source": [
    "patient_data = {\n",
    "    \"sample-id\": \"e89c387a-b539-11e6-9d82-fb96077e5724\",\n",
    "    \"date\": \"2016-11-27T00:00:00\",\n",
    "   \n",
    "    \"variation\": {\n",
    "        \"meta\": {\n",
    "            \"vmc_schema_version\": 1,\n",
    "            \"id_scheme\": \"computed\",\n",
    "        },\n",
    "        \"alleles\": alleles,\n",
    "        \"haplotypes\": haplotypes,\n",
    "        \"genotypes\": genotypes,\n",
    "        \"identifier_id_map\": identifier_id_map\n",
    "    }\n",
    "}\n",
    "print(to_json(patient_data))"
   ]
  },
  {
   "cell_type": "code",
   "execution_count": null,
   "metadata": {
    "collapsed": true,
    "deletable": true,
    "editable": true
   },
   "outputs": [],
   "source": []
  },
  {
   "cell_type": "code",
   "execution_count": null,
   "metadata": {
    "collapsed": true
   },
   "outputs": [],
   "source": []
  },
  {
   "cell_type": "code",
   "execution_count": null,
   "metadata": {
    "collapsed": true
   },
   "outputs": [],
   "source": []
  }
 ],
 "metadata": {
  "kernelspec": {
   "display_name": "Python 3",
   "language": "python",
   "name": "python3"
  },
  "language_info": {
   "codemirror_mode": {
    "name": "ipython",
    "version": 3
   },
   "file_extension": ".py",
   "mimetype": "text/x-python",
   "name": "python",
   "nbconvert_exporter": "python",
   "pygments_lexer": "ipython3",
   "version": "3.5.2+"
  }
 },
 "nbformat": 4,
 "nbformat_minor": 1
}
