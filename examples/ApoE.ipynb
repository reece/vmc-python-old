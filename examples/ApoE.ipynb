{
 "cells": [
  {
   "cell_type": "markdown",
   "metadata": {
    "deletable": true,
    "editable": true
   },
   "source": [
    "```\n",
    "                             rs7412 \n",
    "                             NC_000019.10:g.44908822\n",
    "                             C          T\n",
    "rs429358                 C   APOE-ε4    APOE-ε1\n",
    "NC_000019.10:g.44908684  T   APOE-ε3    APOE-ε2\n",
    "http://snpedia.com/index.php/APOE\n",
    "```"
   ]
  },
  {
   "cell_type": "markdown",
   "metadata": {
    "deletable": true,
    "editable": true
   },
   "source": [
    "# Setup"
   ]
  },
  {
   "cell_type": "code",
   "execution_count": 1,
   "metadata": {
    "collapsed": false,
    "deletable": true,
    "editable": true
   },
   "outputs": [],
   "source": [
    "import json\n",
    "import pprint\n",
    "\n",
    "from vmc.richmodels import Identifier, Interval, Locus, Allele, Haplotype, Genotype\n",
    "import vmc.codecs.json\n",
    "\n",
    "def to_json(o):\n",
    "    return json.dumps(o, indent=2, sort_keys=True, cls=vmc.codecs.json.JSONEncoder, ensure_ascii=False)"
   ]
  },
  {
   "cell_type": "code",
   "execution_count": 2,
   "metadata": {
    "collapsed": false,
    "deletable": true,
    "editable": true
   },
   "outputs": [
    {
     "name": "stdout",
     "output_type": "stream",
     "text": [
      "r=Interval(start=44908683, end=44908684)\n",
      "s=44908683:44908684\n",
      "j={\n",
      "  \"end\": 44908684,\n",
      "  \"start\": 44908683\n",
      "}\n"
     ]
    }
   ],
   "source": [
    "sr = \"NCBI:NC_000019.10\"\n",
    "intervals = {\n",
    "    \"rs429358\": Interval(44908683, 44908684),\n",
    "    \"rs7412\": Interval(44908821, 44908822),\n",
    "    }\n",
    "\n",
    "o = intervals[\"rs429358\"]\n",
    "print(\"r={o!r}\\ns={o}\\nj={j}\".format(o=o, j=to_json(o)))"
   ]
  },
  {
   "cell_type": "code",
   "execution_count": 3,
   "metadata": {
    "collapsed": false,
    "deletable": true,
    "editable": true
   },
   "outputs": [
    {
     "name": "stdout",
     "output_type": "stream",
     "text": [
      "r=Locus(seqref='NCBI:NC_000019.10', location=Interval(start=44908683, end=44908684), id=None)\n",
      "s=NCBI:NC_000019.10:44908683:44908684\n",
      "id=GL:4QXqkmv3lDN8BE_LmzgDwiCm8hPvw3pi\n",
      "j={\n",
      "  \"id\": null,\n",
      "  \"location\": {\n",
      "    \"end\": 44908684,\n",
      "    \"start\": 44908683\n",
      "  },\n",
      "  \"seqref\": \"NCBI:NC_000019.10\"\n",
      "}\n"
     ]
    }
   ],
   "source": [
    "loci = {\n",
    "    \"rs429358\": Locus(sr, intervals[\"rs429358\"]),\n",
    "    \"rs7412\": Locus(sr, intervals[\"rs7412\"]),\n",
    "}\n",
    "o = loci[\"rs429358\"]\n",
    "print(\"r={o!r}\\ns={o}\\nid={o.identifier}\\nj={j}\".format(o=o, j=to_json(o)))"
   ]
  },
  {
   "cell_type": "markdown",
   "metadata": {
    "deletable": true,
    "editable": true
   },
   "source": [
    "# Alleles"
   ]
  },
  {
   "cell_type": "code",
   "execution_count": 4,
   "metadata": {
    "collapsed": false,
    "deletable": true,
    "editable": true
   },
   "outputs": [
    {
     "name": "stdout",
     "output_type": "stream",
     "text": [
      "r=Allele(seqref='NCBI:NC_000019.10', location=Interval(start=44908683, end=44908684), replacement='C', id=None)\n",
      "s=NCBI:NC_000019.10:44908683:44908684:C\n",
      "id=GA:HW17jzWbPWQyIcRdwwyeKvuBocJSAilo\n",
      "j={\n",
      "  \"id\": null,\n",
      "  \"location\": {\n",
      "    \"end\": 44908684,\n",
      "    \"start\": 44908683\n",
      "  },\n",
      "  \"replacement\": \"C\",\n",
      "  \"seqref\": \"NCBI:NC_000019.10\"\n",
      "}\n"
     ]
    }
   ],
   "source": [
    "alleles = {\n",
    "    \"rs429358T\": Allele(sr, intervals[\"rs429358\"], \"T\"),\n",
    "    \"rs429358C\": Allele(sr, intervals[\"rs429358\"], \"C\"),\n",
    "    \"rs7412T\":   Allele(sr, intervals[\"rs7412\"],   \"T\"),\n",
    "    \"rs7412C\":   Allele(sr, intervals[\"rs7412\"],   \"C\"),\n",
    "    }\n",
    "o = alleles[\"rs429358C\"]\n",
    "print(\"r={o!r}\\ns={o}\\nid={o.identifier}\\nj={j}\".format(o=o, j=to_json(o)))"
   ]
  },
  {
   "cell_type": "markdown",
   "metadata": {
    "deletable": true,
    "editable": true
   },
   "source": [
    "# Haplotypes"
   ]
  },
  {
   "cell_type": "code",
   "execution_count": 5,
   "metadata": {
    "collapsed": false,
    "deletable": true,
    "editable": true
   },
   "outputs": [
    {
     "name": "stdout",
     "output_type": "stream",
     "text": [
      "r=Haplotype(alleles=[Allele(seqref='NCBI:NC_000019.10', location=Interval(start=44908683, end=44908684), replacement='C', id='GA:HW17jzWbPWQyIcRdwwyeKvuBocJSAilo'), Allele(seqref='NCBI:NC_000019.10', location=Interval(start=44908821, end=44908822), replacement='T', id='GA:uynDR_lCUsmDMN0LWAbpQZMY3zDtCFN8')], id='GH:ZK__hBg12xTo-H7s_60s2nAD3WYxSnoW')\n",
      "s=Haplotype(alleles=[Allele(seqref='NCBI:NC_000019.10', location=Interval(start=44908683, end=44908684), replacement='C', id='GA:HW17jzWbPWQyIcRdwwyeKvuBocJSAilo'), Allele(seqref='NCBI:NC_000019.10', location=Interval(start=44908821, end=44908822), replacement='T', id='GA:uynDR_lCUsmDMN0LWAbpQZMY3zDtCFN8')], id='GH:ZK__hBg12xTo-H7s_60s2nAD3WYxSnoW')\n",
      "id=GH:ZK__hBg12xTo-H7s_60s2nAD3WYxSnoW\n",
      "j={\n",
      "  \"allele_ids\": [\n",
      "    \"GA:HW17jzWbPWQyIcRdwwyeKvuBocJSAilo\",\n",
      "    \"GA:uynDR_lCUsmDMN0LWAbpQZMY3zDtCFN8\"\n",
      "  ],\n",
      "  \"id\": \"GH:ZK__hBg12xTo-H7s_60s2nAD3WYxSnoW\"\n",
      "}\n"
     ]
    }
   ],
   "source": [
    "haplotypes = {\n",
    "    \"ε1\": Haplotype([alleles[\"rs429358C\"], alleles[\"rs7412T\"]]),\n",
    "    \"ε2\": Haplotype([alleles[\"rs429358T\"], alleles[\"rs7412T\"]]),\n",
    "    \"ε3\": Haplotype([alleles[\"rs429358T\"], alleles[\"rs7412C\"]]),\n",
    "    \"ε4\": Haplotype([alleles[\"rs429358C\"], alleles[\"rs7412C\"]]),\n",
    "    \"ε4r\": Haplotype([alleles[\"rs7412C\"], alleles[\"rs429358C\"]]),\n",
    "    }\n",
    "\n",
    "o = haplotypes[\"ε1\"]\n",
    "print(\"r={o!r}\\ns={o}\\nid={o.identifier}\\nj={j}\".format(o=o, j=to_json(o)))"
   ]
  },
  {
   "cell_type": "code",
   "execution_count": 6,
   "metadata": {
    "collapsed": false,
    "deletable": true,
    "editable": true
   },
   "outputs": [
    {
     "name": "stdout",
     "output_type": "stream",
     "text": [
      "{'GH:2gEuysBG_-0WpJgLxp0eTnsP48bZ-xgs': 'ε4', 'GH:XmtlBZ0GGIQ8kp6v_rR8M8bsSUx9T3xx': 'ε3', 'GH:ZK__hBg12xTo-H7s_60s2nAD3WYxSnoW': 'ε1', 'GH:rVxlCAFnc-TBK0hlW99Z35Ewu7LatGlX': 'ε2'}\n"
     ]
    }
   ],
   "source": [
    "haplotype_id_name_map = {h.identifier: n for n, h in haplotypes.items()}\n",
    "print(haplotype_id_name_map)"
   ]
  },
  {
   "cell_type": "markdown",
   "metadata": {
    "deletable": true,
    "editable": true
   },
   "source": [
    "# Genotypes/Diplotypes"
   ]
  },
  {
   "cell_type": "code",
   "execution_count": 7,
   "metadata": {
    "collapsed": false,
    "deletable": true,
    "editable": true
   },
   "outputs": [
    {
     "name": "stdout",
     "output_type": "stream",
     "text": [
      "r=Genotype(haplotypes=[Haplotype(alleles=[Allele(seqref='NCBI:NC_000019.10', location=Interval(start=44908683, end=44908684), replacement='C', id='GA:HW17jzWbPWQyIcRdwwyeKvuBocJSAilo'), Allele(seqref='NCBI:NC_000019.10', location=Interval(start=44908821, end=44908822), replacement='T', id='GA:uynDR_lCUsmDMN0LWAbpQZMY3zDtCFN8')], id='GH:ZK__hBg12xTo-H7s_60s2nAD3WYxSnoW'), Haplotype(alleles=[Allele(seqref='NCBI:NC_000019.10', location=Interval(start=44908683, end=44908684), replacement='C', id='GA:HW17jzWbPWQyIcRdwwyeKvuBocJSAilo'), Allele(seqref='NCBI:NC_000019.10', location=Interval(start=44908821, end=44908822), replacement='T', id='GA:uynDR_lCUsmDMN0LWAbpQZMY3zDtCFN8')], id='GH:ZK__hBg12xTo-H7s_60s2nAD3WYxSnoW')], id='GG:ZVRWU2xPwJkExwxT1JZsJ9tuxjmMOx8h')\n",
      "s=Genotype(haplotypes=[Haplotype(alleles=[Allele(seqref='NCBI:NC_000019.10', location=Interval(start=44908683, end=44908684), replacement='C', id='GA:HW17jzWbPWQyIcRdwwyeKvuBocJSAilo'), Allele(seqref='NCBI:NC_000019.10', location=Interval(start=44908821, end=44908822), replacement='T', id='GA:uynDR_lCUsmDMN0LWAbpQZMY3zDtCFN8')], id='GH:ZK__hBg12xTo-H7s_60s2nAD3WYxSnoW'), Haplotype(alleles=[Allele(seqref='NCBI:NC_000019.10', location=Interval(start=44908683, end=44908684), replacement='C', id='GA:HW17jzWbPWQyIcRdwwyeKvuBocJSAilo'), Allele(seqref='NCBI:NC_000019.10', location=Interval(start=44908821, end=44908822), replacement='T', id='GA:uynDR_lCUsmDMN0LWAbpQZMY3zDtCFN8')], id='GH:ZK__hBg12xTo-H7s_60s2nAD3WYxSnoW')], id='GG:ZVRWU2xPwJkExwxT1JZsJ9tuxjmMOx8h')\n",
      "id=GG:ZVRWU2xPwJkExwxT1JZsJ9tuxjmMOx8h\n",
      "j={\n",
      "  \"haplotype_ids\": [\n",
      "    \"GH:ZK__hBg12xTo-H7s_60s2nAD3WYxSnoW\",\n",
      "    \"GH:ZK__hBg12xTo-H7s_60s2nAD3WYxSnoW\"\n",
      "  ],\n",
      "  \"id\": \"GG:ZVRWU2xPwJkExwxT1JZsJ9tuxjmMOx8h\"\n",
      "}\n"
     ]
    }
   ],
   "source": [
    "genotypes = {\n",
    "    \"{}/{}\".format(h1n, h2n): Genotype([h1, h2])\n",
    "    for h1n, h1 in haplotypes.items()\n",
    "    for h2n, h2 in haplotypes.items()\n",
    "    }\n",
    "\n",
    "o = genotypes[\"ε1/ε1\"]\n",
    "print(\"r={o!r}\\ns={o}\\nid={o.identifier}\\nj={j}\".format(o=o, j=to_json(o)))"
   ]
  },
  {
   "cell_type": "code",
   "execution_count": 10,
   "metadata": {
    "collapsed": false,
    "deletable": true,
    "editable": true,
    "scrolled": true
   },
   "outputs": [
    {
     "name": "stdout",
     "output_type": "stream",
     "text": [
      "ε1/ε1 GG:ZVRWU2xPwJkExwxT1JZsJ9tuxjmMOx8h\n",
      "ε1/ε2 GG:VTvW9slHtWtiRy60jxUT7NKP8LcCSzNA\n",
      "ε1/ε3 GG:VsizGjqNIRdqc9tXPG8C6xbdy75gTa1r\n",
      "ε1/ε4 GG:uwjP68rM32tnfUzyEI0C3UYJuHzSgbKy\n",
      "ε1/ε4r GG:uwjP68rM32tnfUzyEI0C3UYJuHzSgbKy\n",
      "ε2/ε1 GG:VTvW9slHtWtiRy60jxUT7NKP8LcCSzNA\n",
      "ε2/ε2 GG:RBJA8Q81fsI3dD6_YjD0QPfH98c-k-Wf\n",
      "ε2/ε3 GG:F3Da37ph0Y50PlJqqEEt6xCWfXJc_9aP\n",
      "ε2/ε4 GG:MkuyYK5K2k_YirfZPRegkKkHPqCIp_Cj\n",
      "ε2/ε4r GG:MkuyYK5K2k_YirfZPRegkKkHPqCIp_Cj\n",
      "ε3/ε1 GG:VsizGjqNIRdqc9tXPG8C6xbdy75gTa1r\n",
      "ε3/ε2 GG:F3Da37ph0Y50PlJqqEEt6xCWfXJc_9aP\n",
      "ε3/ε3 GG:q2cOY8JoJjYXk5Rfew6184zlV56mj8JO\n",
      "ε3/ε4 GG:Ggpm08lTnnBhcq3Jgk8-igB1Yjl4sxG9\n",
      "ε3/ε4r GG:Ggpm08lTnnBhcq3Jgk8-igB1Yjl4sxG9\n",
      "ε4/ε1 GG:uwjP68rM32tnfUzyEI0C3UYJuHzSgbKy\n",
      "ε4/ε2 GG:MkuyYK5K2k_YirfZPRegkKkHPqCIp_Cj\n",
      "ε4/ε3 GG:Ggpm08lTnnBhcq3Jgk8-igB1Yjl4sxG9\n",
      "ε4/ε4 GG:4BmAxQ_6o1RTb6JIqNPT752nmoYNTR4C\n",
      "ε4/ε4r GG:4BmAxQ_6o1RTb6JIqNPT752nmoYNTR4C\n",
      "ε4r/ε1 GG:uwjP68rM32tnfUzyEI0C3UYJuHzSgbKy\n",
      "ε4r/ε2 GG:MkuyYK5K2k_YirfZPRegkKkHPqCIp_Cj\n",
      "ε4r/ε3 GG:Ggpm08lTnnBhcq3Jgk8-igB1Yjl4sxG9\n",
      "ε4r/ε4 GG:4BmAxQ_6o1RTb6JIqNPT752nmoYNTR4C\n",
      "ε4r/ε4r GG:4BmAxQ_6o1RTb6JIqNPT752nmoYNTR4C\n"
     ]
    }
   ],
   "source": [
    "for k, o in sorted(genotypes.items(), key=lambda kv: kv[0]):\n",
    "    print(k, o.identifier)"
   ]
  },
  {
   "cell_type": "markdown",
   "metadata": {
    "deletable": true,
    "editable": true
   },
   "source": [
    "# Associating data"
   ]
  },
  {
   "cell_type": "markdown",
   "metadata": {
    "deletable": true,
    "editable": true
   },
   "source": [
    "## Using Haplotype Names"
   ]
  },
  {
   "cell_type": "code",
   "execution_count": 11,
   "metadata": {
    "collapsed": true,
    "deletable": true,
    "editable": true
   },
   "outputs": [],
   "source": [
    "gt = genotypes[\"ε1/ε2\"]"
   ]
  },
  {
   "cell_type": "code",
   "execution_count": 13,
   "metadata": {
    "collapsed": false,
    "deletable": true,
    "editable": true,
    "scrolled": true
   },
   "outputs": [
    {
     "data": {
      "text/plain": [
       "['GH:ZK__hBg12xTo-H7s_60s2nAD3WYxSnoW', 'GH:rVxlCAFnc-TBK0hlW99Z35Ewu7LatGlX']"
      ]
     },
     "execution_count": 13,
     "metadata": {},
     "output_type": "execute_result"
    }
   ],
   "source": [
    "gt.haplotype_ids()"
   ]
  },
  {
   "cell_type": "code",
   "execution_count": 16,
   "metadata": {
    "collapsed": false,
    "deletable": true,
    "editable": true
   },
   "outputs": [
    {
     "data": {
      "text/plain": [
       "['ε1', 'ε2']"
      ]
     },
     "execution_count": 16,
     "metadata": {},
     "output_type": "execute_result"
    }
   ],
   "source": [
    "[haplotype_id_name_map[hid] for hid in gt.haplotype_ids()]"
   ]
  },
  {
   "cell_type": "markdown",
   "metadata": {
    "deletable": true,
    "editable": true
   },
   "source": [
    "# Document Example"
   ]
  },
  {
   "cell_type": "code",
   "execution_count": 20,
   "metadata": {
    "collapsed": false,
    "deletable": true,
    "editable": true
   },
   "outputs": [
    {
     "name": "stdout",
     "output_type": "stream",
     "text": [
      "{\n",
      "  \"clinical significance\": {\n",
      "    \"VH/q8_JMk85MxhmFXOAGYsf4aFoHuOyfAJE\": \"increased risk\"\n",
      "  },\n",
      "  \"date\": \"2016-11-27T00:00:00\",\n",
      "  \"haplotype_names\": {\n",
      "    \"GH:2gEuysBG_-0WpJgLxp0eTnsP48bZ-xgs\": \"ε4\",\n",
      "    \"GH:XmtlBZ0GGIQ8kp6v_rR8M8bsSUx9T3xx\": \"ε3\",\n",
      "    \"GH:ZK__hBg12xTo-H7s_60s2nAD3WYxSnoW\": \"ε1\",\n",
      "    \"GH:rVxlCAFnc-TBK0hlW99Z35Ewu7LatGlX\": \"ε2\"\n",
      "  },\n",
      "  \"sample-id\": \"e89c387a-b539-11e6-9d82-fb96077e5724\",\n",
      "  \"vmc:alleles\": {\n",
      "    \"rs429358C\": {\n",
      "      \"id\": \"GA:HW17jzWbPWQyIcRdwwyeKvuBocJSAilo\",\n",
      "      \"location\": {\n",
      "        \"end\": 44908684,\n",
      "        \"start\": 44908683\n",
      "      },\n",
      "      \"replacement\": \"C\",\n",
      "      \"seqref\": \"NCBI:NC_000019.10\"\n",
      "    },\n",
      "    \"rs429358T\": {\n",
      "      \"id\": \"GA:s9484RoL0-BQlf1sppO7HmDriWL4GHjx\",\n",
      "      \"location\": {\n",
      "        \"end\": 44908684,\n",
      "        \"start\": 44908683\n",
      "      },\n",
      "      \"replacement\": \"T\",\n",
      "      \"seqref\": \"NCBI:NC_000019.10\"\n",
      "    },\n",
      "    \"rs7412C\": {\n",
      "      \"id\": \"GA:5Kz4eJfHVW2mKcGjY3rgjQAUbGAr-aBT\",\n",
      "      \"location\": {\n",
      "        \"end\": 44908822,\n",
      "        \"start\": 44908821\n",
      "      },\n",
      "      \"replacement\": \"C\",\n",
      "      \"seqref\": \"NCBI:NC_000019.10\"\n",
      "    },\n",
      "    \"rs7412T\": {\n",
      "      \"id\": \"GA:uynDR_lCUsmDMN0LWAbpQZMY3zDtCFN8\",\n",
      "      \"location\": {\n",
      "        \"end\": 44908822,\n",
      "        \"start\": 44908821\n",
      "      },\n",
      "      \"replacement\": \"T\",\n",
      "      \"seqref\": \"NCBI:NC_000019.10\"\n",
      "    }\n",
      "  },\n",
      "  \"vmc:genotypes\": {\n",
      "    \"ε1/ε1\": {\n",
      "      \"haplotype_ids\": [\n",
      "        \"GH:ZK__hBg12xTo-H7s_60s2nAD3WYxSnoW\",\n",
      "        \"GH:ZK__hBg12xTo-H7s_60s2nAD3WYxSnoW\"\n",
      "      ],\n",
      "      \"id\": \"GG:ZVRWU2xPwJkExwxT1JZsJ9tuxjmMOx8h\"\n",
      "    },\n",
      "    \"ε1/ε2\": {\n",
      "      \"haplotype_ids\": [\n",
      "        \"GH:ZK__hBg12xTo-H7s_60s2nAD3WYxSnoW\",\n",
      "        \"GH:rVxlCAFnc-TBK0hlW99Z35Ewu7LatGlX\"\n",
      "      ],\n",
      "      \"id\": \"GG:VTvW9slHtWtiRy60jxUT7NKP8LcCSzNA\"\n",
      "    },\n",
      "    \"ε1/ε3\": {\n",
      "      \"haplotype_ids\": [\n",
      "        \"GH:XmtlBZ0GGIQ8kp6v_rR8M8bsSUx9T3xx\",\n",
      "        \"GH:ZK__hBg12xTo-H7s_60s2nAD3WYxSnoW\"\n",
      "      ],\n",
      "      \"id\": \"GG:VsizGjqNIRdqc9tXPG8C6xbdy75gTa1r\"\n",
      "    },\n",
      "    \"ε1/ε4\": {\n",
      "      \"haplotype_ids\": [\n",
      "        \"GH:2gEuysBG_-0WpJgLxp0eTnsP48bZ-xgs\",\n",
      "        \"GH:ZK__hBg12xTo-H7s_60s2nAD3WYxSnoW\"\n",
      "      ],\n",
      "      \"id\": \"GG:uwjP68rM32tnfUzyEI0C3UYJuHzSgbKy\"\n",
      "    },\n",
      "    \"ε1/ε4r\": {\n",
      "      \"haplotype_ids\": [\n",
      "        \"GH:2gEuysBG_-0WpJgLxp0eTnsP48bZ-xgs\",\n",
      "        \"GH:ZK__hBg12xTo-H7s_60s2nAD3WYxSnoW\"\n",
      "      ],\n",
      "      \"id\": \"GG:uwjP68rM32tnfUzyEI0C3UYJuHzSgbKy\"\n",
      "    },\n",
      "    \"ε2/ε1\": {\n",
      "      \"haplotype_ids\": [\n",
      "        \"GH:ZK__hBg12xTo-H7s_60s2nAD3WYxSnoW\",\n",
      "        \"GH:rVxlCAFnc-TBK0hlW99Z35Ewu7LatGlX\"\n",
      "      ],\n",
      "      \"id\": \"GG:VTvW9slHtWtiRy60jxUT7NKP8LcCSzNA\"\n",
      "    },\n",
      "    \"ε2/ε2\": {\n",
      "      \"haplotype_ids\": [\n",
      "        \"GH:rVxlCAFnc-TBK0hlW99Z35Ewu7LatGlX\",\n",
      "        \"GH:rVxlCAFnc-TBK0hlW99Z35Ewu7LatGlX\"\n",
      "      ],\n",
      "      \"id\": \"GG:RBJA8Q81fsI3dD6_YjD0QPfH98c-k-Wf\"\n",
      "    },\n",
      "    \"ε2/ε3\": {\n",
      "      \"haplotype_ids\": [\n",
      "        \"GH:XmtlBZ0GGIQ8kp6v_rR8M8bsSUx9T3xx\",\n",
      "        \"GH:rVxlCAFnc-TBK0hlW99Z35Ewu7LatGlX\"\n",
      "      ],\n",
      "      \"id\": \"GG:F3Da37ph0Y50PlJqqEEt6xCWfXJc_9aP\"\n",
      "    },\n",
      "    \"ε2/ε4\": {\n",
      "      \"haplotype_ids\": [\n",
      "        \"GH:2gEuysBG_-0WpJgLxp0eTnsP48bZ-xgs\",\n",
      "        \"GH:rVxlCAFnc-TBK0hlW99Z35Ewu7LatGlX\"\n",
      "      ],\n",
      "      \"id\": \"GG:MkuyYK5K2k_YirfZPRegkKkHPqCIp_Cj\"\n",
      "    },\n",
      "    \"ε2/ε4r\": {\n",
      "      \"haplotype_ids\": [\n",
      "        \"GH:2gEuysBG_-0WpJgLxp0eTnsP48bZ-xgs\",\n",
      "        \"GH:rVxlCAFnc-TBK0hlW99Z35Ewu7LatGlX\"\n",
      "      ],\n",
      "      \"id\": \"GG:MkuyYK5K2k_YirfZPRegkKkHPqCIp_Cj\"\n",
      "    },\n",
      "    \"ε3/ε1\": {\n",
      "      \"haplotype_ids\": [\n",
      "        \"GH:XmtlBZ0GGIQ8kp6v_rR8M8bsSUx9T3xx\",\n",
      "        \"GH:ZK__hBg12xTo-H7s_60s2nAD3WYxSnoW\"\n",
      "      ],\n",
      "      \"id\": \"GG:VsizGjqNIRdqc9tXPG8C6xbdy75gTa1r\"\n",
      "    },\n",
      "    \"ε3/ε2\": {\n",
      "      \"haplotype_ids\": [\n",
      "        \"GH:XmtlBZ0GGIQ8kp6v_rR8M8bsSUx9T3xx\",\n",
      "        \"GH:rVxlCAFnc-TBK0hlW99Z35Ewu7LatGlX\"\n",
      "      ],\n",
      "      \"id\": \"GG:F3Da37ph0Y50PlJqqEEt6xCWfXJc_9aP\"\n",
      "    },\n",
      "    \"ε3/ε3\": {\n",
      "      \"haplotype_ids\": [\n",
      "        \"GH:XmtlBZ0GGIQ8kp6v_rR8M8bsSUx9T3xx\",\n",
      "        \"GH:XmtlBZ0GGIQ8kp6v_rR8M8bsSUx9T3xx\"\n",
      "      ],\n",
      "      \"id\": \"GG:q2cOY8JoJjYXk5Rfew6184zlV56mj8JO\"\n",
      "    },\n",
      "    \"ε3/ε4\": {\n",
      "      \"haplotype_ids\": [\n",
      "        \"GH:2gEuysBG_-0WpJgLxp0eTnsP48bZ-xgs\",\n",
      "        \"GH:XmtlBZ0GGIQ8kp6v_rR8M8bsSUx9T3xx\"\n",
      "      ],\n",
      "      \"id\": \"GG:Ggpm08lTnnBhcq3Jgk8-igB1Yjl4sxG9\"\n",
      "    },\n",
      "    \"ε3/ε4r\": {\n",
      "      \"haplotype_ids\": [\n",
      "        \"GH:2gEuysBG_-0WpJgLxp0eTnsP48bZ-xgs\",\n",
      "        \"GH:XmtlBZ0GGIQ8kp6v_rR8M8bsSUx9T3xx\"\n",
      "      ],\n",
      "      \"id\": \"GG:Ggpm08lTnnBhcq3Jgk8-igB1Yjl4sxG9\"\n",
      "    },\n",
      "    \"ε4/ε1\": {\n",
      "      \"haplotype_ids\": [\n",
      "        \"GH:2gEuysBG_-0WpJgLxp0eTnsP48bZ-xgs\",\n",
      "        \"GH:ZK__hBg12xTo-H7s_60s2nAD3WYxSnoW\"\n",
      "      ],\n",
      "      \"id\": \"GG:uwjP68rM32tnfUzyEI0C3UYJuHzSgbKy\"\n",
      "    },\n",
      "    \"ε4/ε2\": {\n",
      "      \"haplotype_ids\": [\n",
      "        \"GH:2gEuysBG_-0WpJgLxp0eTnsP48bZ-xgs\",\n",
      "        \"GH:rVxlCAFnc-TBK0hlW99Z35Ewu7LatGlX\"\n",
      "      ],\n",
      "      \"id\": \"GG:MkuyYK5K2k_YirfZPRegkKkHPqCIp_Cj\"\n",
      "    },\n",
      "    \"ε4/ε3\": {\n",
      "      \"haplotype_ids\": [\n",
      "        \"GH:2gEuysBG_-0WpJgLxp0eTnsP48bZ-xgs\",\n",
      "        \"GH:XmtlBZ0GGIQ8kp6v_rR8M8bsSUx9T3xx\"\n",
      "      ],\n",
      "      \"id\": \"GG:Ggpm08lTnnBhcq3Jgk8-igB1Yjl4sxG9\"\n",
      "    },\n",
      "    \"ε4/ε4\": {\n",
      "      \"haplotype_ids\": [\n",
      "        \"GH:2gEuysBG_-0WpJgLxp0eTnsP48bZ-xgs\",\n",
      "        \"GH:2gEuysBG_-0WpJgLxp0eTnsP48bZ-xgs\"\n",
      "      ],\n",
      "      \"id\": \"GG:4BmAxQ_6o1RTb6JIqNPT752nmoYNTR4C\"\n",
      "    },\n",
      "    \"ε4/ε4r\": {\n",
      "      \"haplotype_ids\": [\n",
      "        \"GH:2gEuysBG_-0WpJgLxp0eTnsP48bZ-xgs\",\n",
      "        \"GH:2gEuysBG_-0WpJgLxp0eTnsP48bZ-xgs\"\n",
      "      ],\n",
      "      \"id\": \"GG:4BmAxQ_6o1RTb6JIqNPT752nmoYNTR4C\"\n",
      "    },\n",
      "    \"ε4r/ε1\": {\n",
      "      \"haplotype_ids\": [\n",
      "        \"GH:2gEuysBG_-0WpJgLxp0eTnsP48bZ-xgs\",\n",
      "        \"GH:ZK__hBg12xTo-H7s_60s2nAD3WYxSnoW\"\n",
      "      ],\n",
      "      \"id\": \"GG:uwjP68rM32tnfUzyEI0C3UYJuHzSgbKy\"\n",
      "    },\n",
      "    \"ε4r/ε2\": {\n",
      "      \"haplotype_ids\": [\n",
      "        \"GH:2gEuysBG_-0WpJgLxp0eTnsP48bZ-xgs\",\n",
      "        \"GH:rVxlCAFnc-TBK0hlW99Z35Ewu7LatGlX\"\n",
      "      ],\n",
      "      \"id\": \"GG:MkuyYK5K2k_YirfZPRegkKkHPqCIp_Cj\"\n",
      "    },\n",
      "    \"ε4r/ε3\": {\n",
      "      \"haplotype_ids\": [\n",
      "        \"GH:2gEuysBG_-0WpJgLxp0eTnsP48bZ-xgs\",\n",
      "        \"GH:XmtlBZ0GGIQ8kp6v_rR8M8bsSUx9T3xx\"\n",
      "      ],\n",
      "      \"id\": \"GG:Ggpm08lTnnBhcq3Jgk8-igB1Yjl4sxG9\"\n",
      "    },\n",
      "    \"ε4r/ε4\": {\n",
      "      \"haplotype_ids\": [\n",
      "        \"GH:2gEuysBG_-0WpJgLxp0eTnsP48bZ-xgs\",\n",
      "        \"GH:2gEuysBG_-0WpJgLxp0eTnsP48bZ-xgs\"\n",
      "      ],\n",
      "      \"id\": \"GG:4BmAxQ_6o1RTb6JIqNPT752nmoYNTR4C\"\n",
      "    },\n",
      "    \"ε4r/ε4r\": {\n",
      "      \"haplotype_ids\": [\n",
      "        \"GH:2gEuysBG_-0WpJgLxp0eTnsP48bZ-xgs\",\n",
      "        \"GH:2gEuysBG_-0WpJgLxp0eTnsP48bZ-xgs\"\n",
      "      ],\n",
      "      \"id\": \"GG:4BmAxQ_6o1RTb6JIqNPT752nmoYNTR4C\"\n",
      "    }\n",
      "  },\n",
      "  \"vmc:haplotypes\": {\n",
      "    \"ε1\": {\n",
      "      \"allele_ids\": [\n",
      "        \"GA:HW17jzWbPWQyIcRdwwyeKvuBocJSAilo\",\n",
      "        \"GA:uynDR_lCUsmDMN0LWAbpQZMY3zDtCFN8\"\n",
      "      ],\n",
      "      \"id\": \"GH:ZK__hBg12xTo-H7s_60s2nAD3WYxSnoW\"\n",
      "    },\n",
      "    \"ε2\": {\n",
      "      \"allele_ids\": [\n",
      "        \"GA:s9484RoL0-BQlf1sppO7HmDriWL4GHjx\",\n",
      "        \"GA:uynDR_lCUsmDMN0LWAbpQZMY3zDtCFN8\"\n",
      "      ],\n",
      "      \"id\": \"GH:rVxlCAFnc-TBK0hlW99Z35Ewu7LatGlX\"\n",
      "    },\n",
      "    \"ε3\": {\n",
      "      \"allele_ids\": [\n",
      "        \"GA:5Kz4eJfHVW2mKcGjY3rgjQAUbGAr-aBT\",\n",
      "        \"GA:s9484RoL0-BQlf1sppO7HmDriWL4GHjx\"\n",
      "      ],\n",
      "      \"id\": \"GH:XmtlBZ0GGIQ8kp6v_rR8M8bsSUx9T3xx\"\n",
      "    },\n",
      "    \"ε4\": {\n",
      "      \"allele_ids\": [\n",
      "        \"GA:5Kz4eJfHVW2mKcGjY3rgjQAUbGAr-aBT\",\n",
      "        \"GA:HW17jzWbPWQyIcRdwwyeKvuBocJSAilo\"\n",
      "      ],\n",
      "      \"id\": \"GH:2gEuysBG_-0WpJgLxp0eTnsP48bZ-xgs\"\n",
      "    },\n",
      "    \"ε4r\": {\n",
      "      \"allele_ids\": [\n",
      "        \"GA:5Kz4eJfHVW2mKcGjY3rgjQAUbGAr-aBT\",\n",
      "        \"GA:HW17jzWbPWQyIcRdwwyeKvuBocJSAilo\"\n",
      "      ],\n",
      "      \"id\": \"GH:2gEuysBG_-0WpJgLxp0eTnsP48bZ-xgs\"\n",
      "    }\n",
      "  }\n",
      "}\n"
     ]
    }
   ],
   "source": [
    "patient_data = {\n",
    "    \"sample-id\": \"e89c387a-b539-11e6-9d82-fb96077e5724\",\n",
    "    \"date\": \"2016-11-27T00:00:00\",\n",
    "    \n",
    "    \"vmc:alleles\": alleles,\n",
    "    \"vmc:haplotypes\": haplotypes,\n",
    "    \"vmc:genotypes\": genotypes,\n",
    "\n",
    "    \"haplotype_names\": haplotype_id_name_map,\n",
    "\n",
    "    \"clinical significance\": {\n",
    "        \"VH/q8_JMk85MxhmFXOAGYsf4aFoHuOyfAJE\": \"increased risk\",\n",
    "        }\n",
    "    }\n",
    "print(to_json(patient_data))"
   ]
  }
 ],
 "metadata": {
  "kernelspec": {
   "display_name": "Python 3",
   "language": "python",
   "name": "python3"
  },
  "language_info": {
   "codemirror_mode": {
    "name": "ipython",
    "version": 3
   },
   "file_extension": ".py",
   "mimetype": "text/x-python",
   "name": "python",
   "nbconvert_exporter": "python",
   "pygments_lexer": "ipython3",
   "version": "3.5.2+"
  }
 },
 "nbformat": 4,
 "nbformat_minor": 1
}
