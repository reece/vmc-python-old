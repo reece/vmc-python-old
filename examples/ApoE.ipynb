{
 "cells": [
  {
   "cell_type": "markdown",
   "metadata": {},
   "source": [
    "```\n",
    "                             rs7412 \n",
    "                             NC_000019.10:g.44908822\n",
    "                             C          T\n",
    "rs429358                 C   APOE-ε4    APOE-ε1\n",
    "NC_000019.10:g.44908684  T   APOE-ε3    APOE-ε2\n",
    "http://snpedia.com/index.php/APOE\n",
    "```"
   ]
  },
  {
   "cell_type": "markdown",
   "metadata": {},
   "source": [
    "# Setup"
   ]
  },
  {
   "cell_type": "code",
   "execution_count": 1,
   "metadata": {
    "collapsed": true
   },
   "outputs": [],
   "source": [
    "import json\n",
    "import pprint\n",
    "\n",
    "from vmc.models import ObjectReference, Interval, Allele, Haplotype, Genotype\n",
    "import vmc.codecs.json\n",
    "\n",
    "def to_json(o):\n",
    "    return json.dumps(o, indent=2, sort_keys=True, cls=vmc.codecs.json.JSONEncoder, ensure_ascii=False)"
   ]
  },
  {
   "cell_type": "code",
   "execution_count": 2,
   "metadata": {
    "collapsed": true
   },
   "outputs": [],
   "source": [
    "sr = ObjectReference(namespace=\"NCBI\", accession=\"NC_000019.10\")\n",
    "intervals = {\n",
    "    \"rs429358\": Interval(44908683, 44908684),\n",
    "    \"rs7412\": Interval(44908821, 44908822),\n",
    "    }"
   ]
  },
  {
   "cell_type": "markdown",
   "metadata": {},
   "source": [
    "# Alleles"
   ]
  },
  {
   "cell_type": "code",
   "execution_count": 3,
   "metadata": {
    "collapsed": true
   },
   "outputs": [],
   "source": [
    "alleles = {\n",
    "    \"rs429358T\": Allele(sr, intervals[\"rs429358\"], \"T\"),\n",
    "    \"rs429358C\": Allele(sr, intervals[\"rs429358\"], \"C\"),\n",
    "    \"rs7412T\":   Allele(sr, intervals[\"rs7412\"],   \"T\"),\n",
    "    \"rs7412C\":   Allele(sr, intervals[\"rs7412\"],   \"C\"),\n",
    "    }"
   ]
  },
  {
   "cell_type": "code",
   "execution_count": 4,
   "metadata": {
    "collapsed": false
   },
   "outputs": [
    {
     "data": {
      "text/plain": [
       "Allele(seqref=ObjectReference(namespace='NCBI', accession='NC_000019.10'), interval=Interval(start=44908683, end=44908684), replacement='C')"
      ]
     },
     "execution_count": 4,
     "metadata": {},
     "output_type": "execute_result"
    }
   ],
   "source": [
    "alleles[\"rs429358C\"]"
   ]
  },
  {
   "cell_type": "code",
   "execution_count": 5,
   "metadata": {
    "collapsed": false
   },
   "outputs": [
    {
     "data": {
      "text/plain": [
       "'NCBI/NC_000019.10:<44908683,44908684>:C'"
      ]
     },
     "execution_count": 5,
     "metadata": {},
     "output_type": "execute_result"
    }
   ],
   "source": [
    "str(alleles[\"rs429358C\"])"
   ]
  },
  {
   "cell_type": "code",
   "execution_count": 6,
   "metadata": {
    "collapsed": false
   },
   "outputs": [
    {
     "name": "stdout",
     "output_type": "stream",
     "text": [
      "{\n",
      "  \"rs429358C\": {\n",
      "    \"id\": \"VA/ZgOnWTvuRsLGoqTp6WAgJuFvrPVulgY2\",\n",
      "    \"interval\": {\n",
      "      \"end\": 44908684,\n",
      "      \"start\": 44908683\n",
      "    },\n",
      "    \"replacement\": \"C\",\n",
      "    \"seqref\": {\n",
      "      \"accession\": \"NC_000019.10\",\n",
      "      \"namespace\": \"NCBI\"\n",
      "    }\n",
      "  },\n",
      "  \"rs429358T\": {\n",
      "    \"id\": \"VA/SmtH5_lBB_j8bUg-UnjEijMhM8YLqkP8\",\n",
      "    \"interval\": {\n",
      "      \"end\": 44908684,\n",
      "      \"start\": 44908683\n",
      "    },\n",
      "    \"replacement\": \"T\",\n",
      "    \"seqref\": {\n",
      "      \"accession\": \"NC_000019.10\",\n",
      "      \"namespace\": \"NCBI\"\n",
      "    }\n",
      "  },\n",
      "  \"rs7412C\": {\n",
      "    \"id\": \"VA/fnwGfGdUbdLRbIIkEx1lIzO77o8pgFzv\",\n",
      "    \"interval\": {\n",
      "      \"end\": 44908822,\n",
      "      \"start\": 44908821\n",
      "    },\n",
      "    \"replacement\": \"C\",\n",
      "    \"seqref\": {\n",
      "      \"accession\": \"NC_000019.10\",\n",
      "      \"namespace\": \"NCBI\"\n",
      "    }\n",
      "  },\n",
      "  \"rs7412T\": {\n",
      "    \"id\": \"VA/f0l64_B4mOriqevzpV7ip5rwUCo7oKmA\",\n",
      "    \"interval\": {\n",
      "      \"end\": 44908822,\n",
      "      \"start\": 44908821\n",
      "    },\n",
      "    \"replacement\": \"T\",\n",
      "    \"seqref\": {\n",
      "      \"accession\": \"NC_000019.10\",\n",
      "      \"namespace\": \"NCBI\"\n",
      "    }\n",
      "  }\n",
      "}\n"
     ]
    }
   ],
   "source": [
    "print(to_json(alleles))"
   ]
  },
  {
   "cell_type": "markdown",
   "metadata": {},
   "source": [
    "# Haplotypes"
   ]
  },
  {
   "cell_type": "code",
   "execution_count": 7,
   "metadata": {
    "collapsed": true
   },
   "outputs": [],
   "source": [
    "haplotypes = {\n",
    "    \"ε1\": Haplotype([alleles[\"rs429358C\"], alleles[\"rs7412T\"]]),\n",
    "    \"ε2\": Haplotype([alleles[\"rs429358T\"], alleles[\"rs7412T\"]]),\n",
    "    \"ε3\": Haplotype([alleles[\"rs429358T\"], alleles[\"rs7412C\"]]),\n",
    "    \"ε4\": Haplotype([alleles[\"rs429358C\"], alleles[\"rs7412C\"]]),\n",
    "    }"
   ]
  },
  {
   "cell_type": "code",
   "execution_count": 8,
   "metadata": {
    "collapsed": false
   },
   "outputs": [
    {
     "name": "stdout",
     "output_type": "stream",
     "text": [
      "{\n",
      "  \"ε1\": {\n",
      "    \"allele_ids\": [\n",
      "      \"VA/ZgOnWTvuRsLGoqTp6WAgJuFvrPVulgY2\",\n",
      "      \"VA/f0l64_B4mOriqevzpV7ip5rwUCo7oKmA\"\n",
      "    ],\n",
      "    \"id\": \"VH/Jdha5Mgdx-zt16AKbDPDRBhWzaa1DMMZ\"\n",
      "  },\n",
      "  \"ε2\": {\n",
      "    \"allele_ids\": [\n",
      "      \"VA/SmtH5_lBB_j8bUg-UnjEijMhM8YLqkP8\",\n",
      "      \"VA/f0l64_B4mOriqevzpV7ip5rwUCo7oKmA\"\n",
      "    ],\n",
      "    \"id\": \"VH/6MjG72eg8qL83EyaKD7SoGQz-t1YyqsQ\"\n",
      "  },\n",
      "  \"ε3\": {\n",
      "    \"allele_ids\": [\n",
      "      \"VA/SmtH5_lBB_j8bUg-UnjEijMhM8YLqkP8\",\n",
      "      \"VA/fnwGfGdUbdLRbIIkEx1lIzO77o8pgFzv\"\n",
      "    ],\n",
      "    \"id\": \"VH/hg4D9sgompp7-aZdW1QfvvL1di88jlbo\"\n",
      "  },\n",
      "  \"ε4\": {\n",
      "    \"allele_ids\": [\n",
      "      \"VA/ZgOnWTvuRsLGoqTp6WAgJuFvrPVulgY2\",\n",
      "      \"VA/fnwGfGdUbdLRbIIkEx1lIzO77o8pgFzv\"\n",
      "    ],\n",
      "    \"id\": \"VH/q8_JMk85MxhmFXOAGYsf4aFoHuOyfAJE\"\n",
      "  }\n",
      "}\n"
     ]
    }
   ],
   "source": [
    "print(to_json(haplotypes))"
   ]
  },
  {
   "cell_type": "code",
   "execution_count": 9,
   "metadata": {
    "collapsed": false
   },
   "outputs": [
    {
     "name": "stdout",
     "output_type": "stream",
     "text": [
      "{'VH/q8_JMk85MxhmFXOAGYsf4aFoHuOyfAJE': 'ε4', 'VH/6MjG72eg8qL83EyaKD7SoGQz-t1YyqsQ': 'ε2', 'VH/hg4D9sgompp7-aZdW1QfvvL1di88jlbo': 'ε3', 'VH/Jdha5Mgdx-zt16AKbDPDRBhWzaa1DMMZ': 'ε1'}\n"
     ]
    }
   ],
   "source": [
    "haplotype_names = {str(h.digest): n for n, h in haplotypes.items()}\n",
    "print(haplotype_names)"
   ]
  },
  {
   "cell_type": "markdown",
   "metadata": {},
   "source": [
    "# Genotypes"
   ]
  },
  {
   "cell_type": "code",
   "execution_count": 10,
   "metadata": {
    "collapsed": true
   },
   "outputs": [],
   "source": [
    "genotypes = {\n",
    "    \"{}/{}\".format(h1n, h2n): Genotype([h1, h2])\n",
    "    for h1n, h1 in haplotypes.items()\n",
    "    for h2n, h2 in haplotypes.items()\n",
    "    }"
   ]
  },
  {
   "cell_type": "code",
   "execution_count": 11,
   "metadata": {
    "collapsed": false,
    "scrolled": true
   },
   "outputs": [
    {
     "name": "stdout",
     "output_type": "stream",
     "text": [
      "{\n",
      "  \"haplotype_ids\": [\n",
      "    \"VH/6MjG72eg8qL83EyaKD7SoGQz-t1YyqsQ\",\n",
      "    \"VH/Jdha5Mgdx-zt16AKbDPDRBhWzaa1DMMZ\"\n",
      "  ],\n",
      "  \"id\": \"VG/iTyb-uti8xInAThWtb_eswICKFwyLxTB\"\n",
      "}\n"
     ]
    }
   ],
   "source": [
    "print(to_json(genotypes[\"ε1/ε2\"]))"
   ]
  },
  {
   "cell_type": "code",
   "execution_count": 12,
   "metadata": {
    "collapsed": false
   },
   "outputs": [
    {
     "name": "stdout",
     "output_type": "stream",
     "text": [
      "{\n",
      "  \"ε1/ε1\": {\n",
      "    \"haplotype_ids\": [\n",
      "      \"VH/Jdha5Mgdx-zt16AKbDPDRBhWzaa1DMMZ\",\n",
      "      \"VH/Jdha5Mgdx-zt16AKbDPDRBhWzaa1DMMZ\"\n",
      "    ],\n",
      "    \"id\": \"VG/5oG2t7wmQwnqnuaT284Z06eB4Ngg7clr\"\n",
      "  },\n",
      "  \"ε1/ε2\": {\n",
      "    \"haplotype_ids\": [\n",
      "      \"VH/6MjG72eg8qL83EyaKD7SoGQz-t1YyqsQ\",\n",
      "      \"VH/Jdha5Mgdx-zt16AKbDPDRBhWzaa1DMMZ\"\n",
      "    ],\n",
      "    \"id\": \"VG/iTyb-uti8xInAThWtb_eswICKFwyLxTB\"\n",
      "  },\n",
      "  \"ε1/ε3\": {\n",
      "    \"haplotype_ids\": [\n",
      "      \"VH/Jdha5Mgdx-zt16AKbDPDRBhWzaa1DMMZ\",\n",
      "      \"VH/hg4D9sgompp7-aZdW1QfvvL1di88jlbo\"\n",
      "    ],\n",
      "    \"id\": \"VG/_rdkwQ9Z4t_FB9pDq0KjgwnPnKCFgyNU\"\n",
      "  },\n",
      "  \"ε1/ε4\": {\n",
      "    \"haplotype_ids\": [\n",
      "      \"VH/Jdha5Mgdx-zt16AKbDPDRBhWzaa1DMMZ\",\n",
      "      \"VH/q8_JMk85MxhmFXOAGYsf4aFoHuOyfAJE\"\n",
      "    ],\n",
      "    \"id\": \"VG/RFghM2gyvmY9Ny5n9rlYDLb6t6PjL1Iu\"\n",
      "  },\n",
      "  \"ε2/ε1\": {\n",
      "    \"haplotype_ids\": [\n",
      "      \"VH/6MjG72eg8qL83EyaKD7SoGQz-t1YyqsQ\",\n",
      "      \"VH/Jdha5Mgdx-zt16AKbDPDRBhWzaa1DMMZ\"\n",
      "    ],\n",
      "    \"id\": \"VG/iTyb-uti8xInAThWtb_eswICKFwyLxTB\"\n",
      "  },\n",
      "  \"ε2/ε2\": {\n",
      "    \"haplotype_ids\": [\n",
      "      \"VH/6MjG72eg8qL83EyaKD7SoGQz-t1YyqsQ\",\n",
      "      \"VH/6MjG72eg8qL83EyaKD7SoGQz-t1YyqsQ\"\n",
      "    ],\n",
      "    \"id\": \"VG/ypqEeToHiSSDFs0em9sUBaSkzYMu3-Kz\"\n",
      "  },\n",
      "  \"ε2/ε3\": {\n",
      "    \"haplotype_ids\": [\n",
      "      \"VH/6MjG72eg8qL83EyaKD7SoGQz-t1YyqsQ\",\n",
      "      \"VH/hg4D9sgompp7-aZdW1QfvvL1di88jlbo\"\n",
      "    ],\n",
      "    \"id\": \"VG/Faiqz1FbhxCa9o0UhbqLATOLr5E1G0c_\"\n",
      "  },\n",
      "  \"ε2/ε4\": {\n",
      "    \"haplotype_ids\": [\n",
      "      \"VH/6MjG72eg8qL83EyaKD7SoGQz-t1YyqsQ\",\n",
      "      \"VH/q8_JMk85MxhmFXOAGYsf4aFoHuOyfAJE\"\n",
      "    ],\n",
      "    \"id\": \"VG/Pt0NsYV0B72VrO-PPfRjq2YdcWlh9aPN\"\n",
      "  },\n",
      "  \"ε3/ε1\": {\n",
      "    \"haplotype_ids\": [\n",
      "      \"VH/Jdha5Mgdx-zt16AKbDPDRBhWzaa1DMMZ\",\n",
      "      \"VH/hg4D9sgompp7-aZdW1QfvvL1di88jlbo\"\n",
      "    ],\n",
      "    \"id\": \"VG/_rdkwQ9Z4t_FB9pDq0KjgwnPnKCFgyNU\"\n",
      "  },\n",
      "  \"ε3/ε2\": {\n",
      "    \"haplotype_ids\": [\n",
      "      \"VH/6MjG72eg8qL83EyaKD7SoGQz-t1YyqsQ\",\n",
      "      \"VH/hg4D9sgompp7-aZdW1QfvvL1di88jlbo\"\n",
      "    ],\n",
      "    \"id\": \"VG/Faiqz1FbhxCa9o0UhbqLATOLr5E1G0c_\"\n",
      "  },\n",
      "  \"ε3/ε3\": {\n",
      "    \"haplotype_ids\": [\n",
      "      \"VH/hg4D9sgompp7-aZdW1QfvvL1di88jlbo\",\n",
      "      \"VH/hg4D9sgompp7-aZdW1QfvvL1di88jlbo\"\n",
      "    ],\n",
      "    \"id\": \"VG/MZ9o8m6mizY4tl1YFTauWuR9Rmly4CjA\"\n",
      "  },\n",
      "  \"ε3/ε4\": {\n",
      "    \"haplotype_ids\": [\n",
      "      \"VH/hg4D9sgompp7-aZdW1QfvvL1di88jlbo\",\n",
      "      \"VH/q8_JMk85MxhmFXOAGYsf4aFoHuOyfAJE\"\n",
      "    ],\n",
      "    \"id\": \"VG/ebDtZ7MAG1J-W2Ajkg00GHqcgY_7vFWl\"\n",
      "  },\n",
      "  \"ε4/ε1\": {\n",
      "    \"haplotype_ids\": [\n",
      "      \"VH/Jdha5Mgdx-zt16AKbDPDRBhWzaa1DMMZ\",\n",
      "      \"VH/q8_JMk85MxhmFXOAGYsf4aFoHuOyfAJE\"\n",
      "    ],\n",
      "    \"id\": \"VG/RFghM2gyvmY9Ny5n9rlYDLb6t6PjL1Iu\"\n",
      "  },\n",
      "  \"ε4/ε2\": {\n",
      "    \"haplotype_ids\": [\n",
      "      \"VH/6MjG72eg8qL83EyaKD7SoGQz-t1YyqsQ\",\n",
      "      \"VH/q8_JMk85MxhmFXOAGYsf4aFoHuOyfAJE\"\n",
      "    ],\n",
      "    \"id\": \"VG/Pt0NsYV0B72VrO-PPfRjq2YdcWlh9aPN\"\n",
      "  },\n",
      "  \"ε4/ε3\": {\n",
      "    \"haplotype_ids\": [\n",
      "      \"VH/hg4D9sgompp7-aZdW1QfvvL1di88jlbo\",\n",
      "      \"VH/q8_JMk85MxhmFXOAGYsf4aFoHuOyfAJE\"\n",
      "    ],\n",
      "    \"id\": \"VG/ebDtZ7MAG1J-W2Ajkg00GHqcgY_7vFWl\"\n",
      "  },\n",
      "  \"ε4/ε4\": {\n",
      "    \"haplotype_ids\": [\n",
      "      \"VH/q8_JMk85MxhmFXOAGYsf4aFoHuOyfAJE\",\n",
      "      \"VH/q8_JMk85MxhmFXOAGYsf4aFoHuOyfAJE\"\n",
      "    ],\n",
      "    \"id\": \"VG/q83AVv0AxCyGpS00Ysq_8rxIyip8mf9S\"\n",
      "  }\n",
      "}\n"
     ]
    }
   ],
   "source": [
    "print(to_json(genotypes))"
   ]
  },
  {
   "cell_type": "code",
   "execution_count": 13,
   "metadata": {
    "collapsed": false,
    "scrolled": true
   },
   "outputs": [
    {
     "name": "stdout",
     "output_type": "stream",
     "text": [
      "ε1/ε1 VG/5oG2t7wmQwnqnuaT284Z06eB4Ngg7clr\n",
      "ε1/ε2 VG/iTyb-uti8xInAThWtb_eswICKFwyLxTB\n",
      "ε1/ε3 VG/_rdkwQ9Z4t_FB9pDq0KjgwnPnKCFgyNU\n",
      "ε1/ε4 VG/RFghM2gyvmY9Ny5n9rlYDLb6t6PjL1Iu\n",
      "ε2/ε1 VG/iTyb-uti8xInAThWtb_eswICKFwyLxTB\n",
      "ε2/ε2 VG/ypqEeToHiSSDFs0em9sUBaSkzYMu3-Kz\n",
      "ε2/ε3 VG/Faiqz1FbhxCa9o0UhbqLATOLr5E1G0c_\n",
      "ε2/ε4 VG/Pt0NsYV0B72VrO-PPfRjq2YdcWlh9aPN\n",
      "ε3/ε1 VG/_rdkwQ9Z4t_FB9pDq0KjgwnPnKCFgyNU\n",
      "ε3/ε2 VG/Faiqz1FbhxCa9o0UhbqLATOLr5E1G0c_\n",
      "ε3/ε3 VG/MZ9o8m6mizY4tl1YFTauWuR9Rmly4CjA\n",
      "ε3/ε4 VG/ebDtZ7MAG1J-W2Ajkg00GHqcgY_7vFWl\n",
      "ε4/ε1 VG/RFghM2gyvmY9Ny5n9rlYDLb6t6PjL1Iu\n",
      "ε4/ε2 VG/Pt0NsYV0B72VrO-PPfRjq2YdcWlh9aPN\n",
      "ε4/ε3 VG/ebDtZ7MAG1J-W2Ajkg00GHqcgY_7vFWl\n",
      "ε4/ε4 VG/q83AVv0AxCyGpS00Ysq_8rxIyip8mf9S\n"
     ]
    }
   ],
   "source": [
    "for k, o in sorted(genotypes.items(), key=lambda kv: kv[0]):\n",
    "    print(k, o.digest)"
   ]
  },
  {
   "cell_type": "markdown",
   "metadata": {},
   "source": [
    "# Associating data"
   ]
  },
  {
   "cell_type": "markdown",
   "metadata": {},
   "source": [
    "## Using Haplotype Names"
   ]
  },
  {
   "cell_type": "code",
   "execution_count": 14,
   "metadata": {
    "collapsed": true
   },
   "outputs": [],
   "source": [
    "gt = genotypes[\"ε1/ε2\"]"
   ]
  },
  {
   "cell_type": "code",
   "execution_count": 15,
   "metadata": {
    "collapsed": false,
    "scrolled": true
   },
   "outputs": [
    {
     "data": {
      "text/plain": [
       "['VH/6MjG72eg8qL83EyaKD7SoGQz-t1YyqsQ', 'VH/Jdha5Mgdx-zt16AKbDPDRBhWzaa1DMMZ']"
      ]
     },
     "execution_count": 15,
     "metadata": {},
     "output_type": "execute_result"
    }
   ],
   "source": [
    "gt.haplotype_ids"
   ]
  },
  {
   "cell_type": "code",
   "execution_count": 16,
   "metadata": {
    "collapsed": false
   },
   "outputs": [
    {
     "data": {
      "text/plain": [
       "['ε2', 'ε1']"
      ]
     },
     "execution_count": 16,
     "metadata": {},
     "output_type": "execute_result"
    }
   ],
   "source": [
    "[haplotype_names[hid] for hid in gt.haplotype_ids]"
   ]
  },
  {
   "cell_type": "markdown",
   "metadata": {},
   "source": [
    "# Document Example"
   ]
  },
  {
   "cell_type": "code",
   "execution_count": 17,
   "metadata": {
    "collapsed": true
   },
   "outputs": [],
   "source": [
    "patient_data = {\n",
    "    \"sample-id\": \"e89c387a-b539-11e6-9d82-fb96077e5724\",\n",
    "    \"date\": \"2016-11-27T00:00:00\",\n",
    "    \n",
    "    \"vmc:alleles\": alleles,\n",
    "    \"vmc:haplotypes\": haplotypes,\n",
    "    \"vmc:genotypes\": genotypes,\n",
    "\n",
    "    \"haplotype_names\": haplotype_names,\n",
    "\n",
    "    \"clinical significance\": {\n",
    "        \"VH/q8_JMk85MxhmFXOAGYsf4aFoHuOyfAJE\": \"increased risk\",\n",
    "        }\n",
    "    }"
   ]
  },
  {
   "cell_type": "code",
   "execution_count": 18,
   "metadata": {
    "collapsed": false,
    "scrolled": true
   },
   "outputs": [
    {
     "name": "stdout",
     "output_type": "stream",
     "text": [
      "{\n",
      "  \"clinical significance\": {\n",
      "    \"VH/q8_JMk85MxhmFXOAGYsf4aFoHuOyfAJE\": \"increased risk\"\n",
      "  },\n",
      "  \"date\": \"2016-11-27T00:00:00\",\n",
      "  \"haplotype_names\": {\n",
      "    \"VH/6MjG72eg8qL83EyaKD7SoGQz-t1YyqsQ\": \"ε2\",\n",
      "    \"VH/Jdha5Mgdx-zt16AKbDPDRBhWzaa1DMMZ\": \"ε1\",\n",
      "    \"VH/hg4D9sgompp7-aZdW1QfvvL1di88jlbo\": \"ε3\",\n",
      "    \"VH/q8_JMk85MxhmFXOAGYsf4aFoHuOyfAJE\": \"ε4\"\n",
      "  },\n",
      "  \"sample-id\": \"e89c387a-b539-11e6-9d82-fb96077e5724\",\n",
      "  \"vmc:alleles\": {\n",
      "    \"rs429358C\": {\n",
      "      \"id\": \"VA/ZgOnWTvuRsLGoqTp6WAgJuFvrPVulgY2\",\n",
      "      \"interval\": {\n",
      "        \"end\": 44908684,\n",
      "        \"start\": 44908683\n",
      "      },\n",
      "      \"replacement\": \"C\",\n",
      "      \"seqref\": {\n",
      "        \"accession\": \"NC_000019.10\",\n",
      "        \"namespace\": \"NCBI\"\n",
      "      }\n",
      "    },\n",
      "    \"rs429358T\": {\n",
      "      \"id\": \"VA/SmtH5_lBB_j8bUg-UnjEijMhM8YLqkP8\",\n",
      "      \"interval\": {\n",
      "        \"end\": 44908684,\n",
      "        \"start\": 44908683\n",
      "      },\n",
      "      \"replacement\": \"T\",\n",
      "      \"seqref\": {\n",
      "        \"accession\": \"NC_000019.10\",\n",
      "        \"namespace\": \"NCBI\"\n",
      "      }\n",
      "    },\n",
      "    \"rs7412C\": {\n",
      "      \"id\": \"VA/fnwGfGdUbdLRbIIkEx1lIzO77o8pgFzv\",\n",
      "      \"interval\": {\n",
      "        \"end\": 44908822,\n",
      "        \"start\": 44908821\n",
      "      },\n",
      "      \"replacement\": \"C\",\n",
      "      \"seqref\": {\n",
      "        \"accession\": \"NC_000019.10\",\n",
      "        \"namespace\": \"NCBI\"\n",
      "      }\n",
      "    },\n",
      "    \"rs7412T\": {\n",
      "      \"id\": \"VA/f0l64_B4mOriqevzpV7ip5rwUCo7oKmA\",\n",
      "      \"interval\": {\n",
      "        \"end\": 44908822,\n",
      "        \"start\": 44908821\n",
      "      },\n",
      "      \"replacement\": \"T\",\n",
      "      \"seqref\": {\n",
      "        \"accession\": \"NC_000019.10\",\n",
      "        \"namespace\": \"NCBI\"\n",
      "      }\n",
      "    }\n",
      "  },\n",
      "  \"vmc:genotypes\": {\n",
      "    \"ε1/ε1\": {\n",
      "      \"haplotype_ids\": [\n",
      "        \"VH/Jdha5Mgdx-zt16AKbDPDRBhWzaa1DMMZ\",\n",
      "        \"VH/Jdha5Mgdx-zt16AKbDPDRBhWzaa1DMMZ\"\n",
      "      ],\n",
      "      \"id\": \"VG/5oG2t7wmQwnqnuaT284Z06eB4Ngg7clr\"\n",
      "    },\n",
      "    \"ε1/ε2\": {\n",
      "      \"haplotype_ids\": [\n",
      "        \"VH/6MjG72eg8qL83EyaKD7SoGQz-t1YyqsQ\",\n",
      "        \"VH/Jdha5Mgdx-zt16AKbDPDRBhWzaa1DMMZ\"\n",
      "      ],\n",
      "      \"id\": \"VG/iTyb-uti8xInAThWtb_eswICKFwyLxTB\"\n",
      "    },\n",
      "    \"ε1/ε3\": {\n",
      "      \"haplotype_ids\": [\n",
      "        \"VH/Jdha5Mgdx-zt16AKbDPDRBhWzaa1DMMZ\",\n",
      "        \"VH/hg4D9sgompp7-aZdW1QfvvL1di88jlbo\"\n",
      "      ],\n",
      "      \"id\": \"VG/_rdkwQ9Z4t_FB9pDq0KjgwnPnKCFgyNU\"\n",
      "    },\n",
      "    \"ε1/ε4\": {\n",
      "      \"haplotype_ids\": [\n",
      "        \"VH/Jdha5Mgdx-zt16AKbDPDRBhWzaa1DMMZ\",\n",
      "        \"VH/q8_JMk85MxhmFXOAGYsf4aFoHuOyfAJE\"\n",
      "      ],\n",
      "      \"id\": \"VG/RFghM2gyvmY9Ny5n9rlYDLb6t6PjL1Iu\"\n",
      "    },\n",
      "    \"ε2/ε1\": {\n",
      "      \"haplotype_ids\": [\n",
      "        \"VH/6MjG72eg8qL83EyaKD7SoGQz-t1YyqsQ\",\n",
      "        \"VH/Jdha5Mgdx-zt16AKbDPDRBhWzaa1DMMZ\"\n",
      "      ],\n",
      "      \"id\": \"VG/iTyb-uti8xInAThWtb_eswICKFwyLxTB\"\n",
      "    },\n",
      "    \"ε2/ε2\": {\n",
      "      \"haplotype_ids\": [\n",
      "        \"VH/6MjG72eg8qL83EyaKD7SoGQz-t1YyqsQ\",\n",
      "        \"VH/6MjG72eg8qL83EyaKD7SoGQz-t1YyqsQ\"\n",
      "      ],\n",
      "      \"id\": \"VG/ypqEeToHiSSDFs0em9sUBaSkzYMu3-Kz\"\n",
      "    },\n",
      "    \"ε2/ε3\": {\n",
      "      \"haplotype_ids\": [\n",
      "        \"VH/6MjG72eg8qL83EyaKD7SoGQz-t1YyqsQ\",\n",
      "        \"VH/hg4D9sgompp7-aZdW1QfvvL1di88jlbo\"\n",
      "      ],\n",
      "      \"id\": \"VG/Faiqz1FbhxCa9o0UhbqLATOLr5E1G0c_\"\n",
      "    },\n",
      "    \"ε2/ε4\": {\n",
      "      \"haplotype_ids\": [\n",
      "        \"VH/6MjG72eg8qL83EyaKD7SoGQz-t1YyqsQ\",\n",
      "        \"VH/q8_JMk85MxhmFXOAGYsf4aFoHuOyfAJE\"\n",
      "      ],\n",
      "      \"id\": \"VG/Pt0NsYV0B72VrO-PPfRjq2YdcWlh9aPN\"\n",
      "    },\n",
      "    \"ε3/ε1\": {\n",
      "      \"haplotype_ids\": [\n",
      "        \"VH/Jdha5Mgdx-zt16AKbDPDRBhWzaa1DMMZ\",\n",
      "        \"VH/hg4D9sgompp7-aZdW1QfvvL1di88jlbo\"\n",
      "      ],\n",
      "      \"id\": \"VG/_rdkwQ9Z4t_FB9pDq0KjgwnPnKCFgyNU\"\n",
      "    },\n",
      "    \"ε3/ε2\": {\n",
      "      \"haplotype_ids\": [\n",
      "        \"VH/6MjG72eg8qL83EyaKD7SoGQz-t1YyqsQ\",\n",
      "        \"VH/hg4D9sgompp7-aZdW1QfvvL1di88jlbo\"\n",
      "      ],\n",
      "      \"id\": \"VG/Faiqz1FbhxCa9o0UhbqLATOLr5E1G0c_\"\n",
      "    },\n",
      "    \"ε3/ε3\": {\n",
      "      \"haplotype_ids\": [\n",
      "        \"VH/hg4D9sgompp7-aZdW1QfvvL1di88jlbo\",\n",
      "        \"VH/hg4D9sgompp7-aZdW1QfvvL1di88jlbo\"\n",
      "      ],\n",
      "      \"id\": \"VG/MZ9o8m6mizY4tl1YFTauWuR9Rmly4CjA\"\n",
      "    },\n",
      "    \"ε3/ε4\": {\n",
      "      \"haplotype_ids\": [\n",
      "        \"VH/hg4D9sgompp7-aZdW1QfvvL1di88jlbo\",\n",
      "        \"VH/q8_JMk85MxhmFXOAGYsf4aFoHuOyfAJE\"\n",
      "      ],\n",
      "      \"id\": \"VG/ebDtZ7MAG1J-W2Ajkg00GHqcgY_7vFWl\"\n",
      "    },\n",
      "    \"ε4/ε1\": {\n",
      "      \"haplotype_ids\": [\n",
      "        \"VH/Jdha5Mgdx-zt16AKbDPDRBhWzaa1DMMZ\",\n",
      "        \"VH/q8_JMk85MxhmFXOAGYsf4aFoHuOyfAJE\"\n",
      "      ],\n",
      "      \"id\": \"VG/RFghM2gyvmY9Ny5n9rlYDLb6t6PjL1Iu\"\n",
      "    },\n",
      "    \"ε4/ε2\": {\n",
      "      \"haplotype_ids\": [\n",
      "        \"VH/6MjG72eg8qL83EyaKD7SoGQz-t1YyqsQ\",\n",
      "        \"VH/q8_JMk85MxhmFXOAGYsf4aFoHuOyfAJE\"\n",
      "      ],\n",
      "      \"id\": \"VG/Pt0NsYV0B72VrO-PPfRjq2YdcWlh9aPN\"\n",
      "    },\n",
      "    \"ε4/ε3\": {\n",
      "      \"haplotype_ids\": [\n",
      "        \"VH/hg4D9sgompp7-aZdW1QfvvL1di88jlbo\",\n",
      "        \"VH/q8_JMk85MxhmFXOAGYsf4aFoHuOyfAJE\"\n",
      "      ],\n",
      "      \"id\": \"VG/ebDtZ7MAG1J-W2Ajkg00GHqcgY_7vFWl\"\n",
      "    },\n",
      "    \"ε4/ε4\": {\n",
      "      \"haplotype_ids\": [\n",
      "        \"VH/q8_JMk85MxhmFXOAGYsf4aFoHuOyfAJE\",\n",
      "        \"VH/q8_JMk85MxhmFXOAGYsf4aFoHuOyfAJE\"\n",
      "      ],\n",
      "      \"id\": \"VG/q83AVv0AxCyGpS00Ysq_8rxIyip8mf9S\"\n",
      "    }\n",
      "  },\n",
      "  \"vmc:haplotypes\": {\n",
      "    \"ε1\": {\n",
      "      \"allele_ids\": [\n",
      "        \"VA/ZgOnWTvuRsLGoqTp6WAgJuFvrPVulgY2\",\n",
      "        \"VA/f0l64_B4mOriqevzpV7ip5rwUCo7oKmA\"\n",
      "      ],\n",
      "      \"id\": \"VH/Jdha5Mgdx-zt16AKbDPDRBhWzaa1DMMZ\"\n",
      "    },\n",
      "    \"ε2\": {\n",
      "      \"allele_ids\": [\n",
      "        \"VA/SmtH5_lBB_j8bUg-UnjEijMhM8YLqkP8\",\n",
      "        \"VA/f0l64_B4mOriqevzpV7ip5rwUCo7oKmA\"\n",
      "      ],\n",
      "      \"id\": \"VH/6MjG72eg8qL83EyaKD7SoGQz-t1YyqsQ\"\n",
      "    },\n",
      "    \"ε3\": {\n",
      "      \"allele_ids\": [\n",
      "        \"VA/SmtH5_lBB_j8bUg-UnjEijMhM8YLqkP8\",\n",
      "        \"VA/fnwGfGdUbdLRbIIkEx1lIzO77o8pgFzv\"\n",
      "      ],\n",
      "      \"id\": \"VH/hg4D9sgompp7-aZdW1QfvvL1di88jlbo\"\n",
      "    },\n",
      "    \"ε4\": {\n",
      "      \"allele_ids\": [\n",
      "        \"VA/ZgOnWTvuRsLGoqTp6WAgJuFvrPVulgY2\",\n",
      "        \"VA/fnwGfGdUbdLRbIIkEx1lIzO77o8pgFzv\"\n",
      "      ],\n",
      "      \"id\": \"VH/q8_JMk85MxhmFXOAGYsf4aFoHuOyfAJE\"\n",
      "    }\n",
      "  }\n",
      "}\n"
     ]
    }
   ],
   "source": [
    "print(to_json(patient_data))"
   ]
  },
  {
   "cell_type": "code",
   "execution_count": null,
   "metadata": {
    "collapsed": true
   },
   "outputs": [],
   "source": []
  }
 ],
 "metadata": {
  "kernelspec": {
   "display_name": "Python 3",
   "language": "python",
   "name": "python3"
  },
  "language_info": {
   "codemirror_mode": {
    "name": "ipython",
    "version": 3
   },
   "file_extension": ".py",
   "mimetype": "text/x-python",
   "name": "python",
   "nbconvert_exporter": "python",
   "pygments_lexer": "ipython3",
   "version": "3.5.2"
  }
 },
 "nbformat": 4,
 "nbformat_minor": 1
}
